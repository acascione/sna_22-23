{
  "nbformat": 4,
  "nbformat_minor": 0,
  "metadata": {
    "colab": {
      "provenance": []
    },
    "kernelspec": {
      "name": "python3",
      "display_name": "Python 3"
    },
    "language_info": {
      "name": "python"
    }
  },
  "cells": [
    {
      "cell_type": "markdown",
      "source": [
        "# Spotify artists data collection"
      ],
      "metadata": {
        "id": "MuSXM_V8dW8n"
      }
    },
    {
      "cell_type": "markdown",
      "source": [
        "We perform the network extraction using Spotipy API library: choices regarding the attribute definitions, the choice regarding the starting artists of the graph and the extraction procedure itself are specified in the comments that start the main blocks of the following notebook"
      ],
      "metadata": {
        "id": "RQsmdRj2nyoX"
      }
    },
    {
      "cell_type": "code",
      "execution_count": 3,
      "metadata": {
        "colab": {
          "base_uri": "https://localhost:8080/"
        },
        "id": "KkyI4KylDGvg",
        "outputId": "e16935af-a14d-4d74-fc92-8d7ed03e6b2e"
      },
      "outputs": [
        {
          "output_type": "stream",
          "name": "stdout",
          "text": [
            "Collecting spotipy\n",
            "  Downloading spotipy-2.23.0-py3-none-any.whl (29 kB)\n",
            "Collecting redis>=3.5.3 (from spotipy)\n",
            "  Downloading redis-5.0.1-py3-none-any.whl (250 kB)\n",
            "\u001b[2K     \u001b[90m━━━━━━━━━━━━━━━━━━━━━━━━━━━━━━━━━━━━━━━━\u001b[0m \u001b[32m250.3/250.3 kB\u001b[0m \u001b[31m13.8 MB/s\u001b[0m eta \u001b[36m0:00:00\u001b[0m\n",
            "\u001b[?25hRequirement already satisfied: requests>=2.25.0 in /usr/local/lib/python3.10/dist-packages (from spotipy) (2.31.0)\n",
            "Requirement already satisfied: six>=1.15.0 in /usr/local/lib/python3.10/dist-packages (from spotipy) (1.16.0)\n",
            "Requirement already satisfied: urllib3>=1.26.0 in /usr/local/lib/python3.10/dist-packages (from spotipy) (2.0.7)\n",
            "Requirement already satisfied: async-timeout>=4.0.2 in /usr/local/lib/python3.10/dist-packages (from redis>=3.5.3->spotipy) (4.0.3)\n",
            "Requirement already satisfied: charset-normalizer<4,>=2 in /usr/local/lib/python3.10/dist-packages (from requests>=2.25.0->spotipy) (3.3.2)\n",
            "Requirement already satisfied: idna<4,>=2.5 in /usr/local/lib/python3.10/dist-packages (from requests>=2.25.0->spotipy) (3.4)\n",
            "Requirement already satisfied: certifi>=2017.4.17 in /usr/local/lib/python3.10/dist-packages (from requests>=2.25.0->spotipy) (2023.7.22)\n",
            "Installing collected packages: redis, spotipy\n",
            "Successfully installed redis-5.0.1 spotipy-2.23.0\n"
          ]
        }
      ],
      "source": [
        "#install required API spotify library\n",
        "!pip install spotipy"
      ]
    },
    {
      "cell_type": "code",
      "source": [
        "import spotipy\n",
        "from spotipy.oauth2 import SpotifyClientCredentials\n",
        "\n",
        "import numpy as np\n",
        "import networkx as nx\n",
        "import matplotlib.pyplot as plt\n",
        "import pickle\n",
        "from bs4 import BeautifulSoup\n",
        "import urllib.request"
      ],
      "metadata": {
        "id": "JENQOAwlDLe9"
      },
      "execution_count": 4,
      "outputs": []
    },
    {
      "cell_type": "code",
      "source": [
        "#in order to employ the API, a client_id and a client_secret code are needed\n",
        "#these are private for each user so they are note reported in the final notebook\n",
        "\n",
        "client_id = ''\n",
        "client_secret = ''"
      ],
      "metadata": {
        "id": "PfN4_hz7DLgx"
      },
      "execution_count": null,
      "outputs": []
    },
    {
      "cell_type": "code",
      "source": [
        "credmanager = SpotifyClientCredentials(client_id=client_id, client_secret=client_secret)\n",
        "sp = spotipy.Spotify(client_credentials_manager=credmanager)"
      ],
      "metadata": {
        "id": "DDs5IV1ODLir"
      },
      "execution_count": null,
      "outputs": []
    },
    {
      "cell_type": "code",
      "source": [
        "#we define a function that given a spotify search result creates a dictionary with relevant information regarding the artist\n",
        "\n",
        "def artist_features(spotify_search_result):\n",
        "    result = {\n",
        "        'artist_name': spotify_search_result.get('name', 'artist_name_not_available'),\n",
        "        'artist_id': spotify_search_result.get('id', 'artist_id_not_available'),\n",
        "        'artist_popularity': spotify_search_result.get('popularity', 0),\n",
        "        'artist_first_genre': (spotify_search_result.get('genres', ['genre_not_available']) + ['genre_not_available']),\n",
        "        'artist_n_followers': spotify_search_result.get('followers', {}).get('total', 0),\n",
        "    }\n",
        "    return result"
      ],
      "metadata": {
        "id": "PRWmSno2DLmz"
      },
      "execution_count": null,
      "outputs": []
    },
    {
      "cell_type": "code",
      "source": [
        "drake_search = sp.search('Drake', type='artist')['artists']['items'][0]"
      ],
      "metadata": {
        "id": "Wzv_8XlkWQ8_"
      },
      "execution_count": null,
      "outputs": []
    },
    {
      "cell_type": "code",
      "source": [
        "drake_features = artist_features(drake_search)\n",
        "drake_features"
      ],
      "metadata": {
        "id": "vUqlX0DEDLo5",
        "colab": {
          "base_uri": "https://localhost:8080/"
        },
        "outputId": "401d8534-cfb2-4a7c-9f27-b1058d74a81b"
      },
      "execution_count": null,
      "outputs": [
        {
          "output_type": "execute_result",
          "data": {
            "text/plain": [
              "{'artist_name': 'Drake',\n",
              " 'artist_id': '3TVXtAsR1Inumwj472S9r4',\n",
              " 'artist_popularity': 95,\n",
              " 'artist_first_genre': ['canadian hip hop',\n",
              "  'canadian pop',\n",
              "  'hip hop',\n",
              "  'pop rap',\n",
              "  'rap',\n",
              "  'genre_not_available'],\n",
              " 'artist_n_followers': 81801944}"
            ]
          },
          "metadata": {},
          "execution_count": 7
        }
      ]
    },
    {
      "cell_type": "code",
      "source": [
        "#artist_related_artists allows us to access the top related artists associated with a single artist_id\n",
        "sp.artist_related_artists(drake_features['artist_id'])"
      ],
      "metadata": {
        "id": "RB_18JZhMSqG",
        "colab": {
          "base_uri": "https://localhost:8080/"
        },
        "outputId": "c2727421-b46c-47f3-ade5-387f88692b23"
      },
      "execution_count": null,
      "outputs": [
        {
          "output_type": "execute_result",
          "data": {
            "text/plain": [
              "{'artists': [{'external_urls': {'spotify': 'https://open.spotify.com/artist/1RyvyyTE3xzB2ZywiAwp0i'},\n",
              "   'followers': {'href': None, 'total': 15247690},\n",
              "   'genres': ['atl hip hop', 'hip hop', 'rap', 'southern hip hop', 'trap'],\n",
              "   'href': 'https://api.spotify.com/v1/artists/1RyvyyTE3xzB2ZywiAwp0i',\n",
              "   'id': '1RyvyyTE3xzB2ZywiAwp0i',\n",
              "   'images': [{'height': 640,\n",
              "     'url': 'https://i.scdn.co/image/ab6761610000e5eb24e41f491b129093a6fee383',\n",
              "     'width': 640},\n",
              "    {'height': 320,\n",
              "     'url': 'https://i.scdn.co/image/ab6761610000517424e41f491b129093a6fee383',\n",
              "     'width': 320},\n",
              "    {'height': 160,\n",
              "     'url': 'https://i.scdn.co/image/ab6761610000f17824e41f491b129093a6fee383',\n",
              "     'width': 160}],\n",
              "   'name': 'Future',\n",
              "   'popularity': 87,\n",
              "   'type': 'artist',\n",
              "   'uri': 'spotify:artist:1RyvyyTE3xzB2ZywiAwp0i'},\n",
              "  {'external_urls': {'spotify': 'https://open.spotify.com/artist/1URnnhqYAYcrqrcwql10ft'},\n",
              "   'followers': {'href': None, 'total': 15474157},\n",
              "   'genres': ['atl hip hop', 'hip hop', 'rap'],\n",
              "   'href': 'https://api.spotify.com/v1/artists/1URnnhqYAYcrqrcwql10ft',\n",
              "   'id': '1URnnhqYAYcrqrcwql10ft',\n",
              "   'images': [{'height': 640,\n",
              "     'url': 'https://i.scdn.co/image/ab6761610000e5eb35ca7d2181258b51c0f2cf9e',\n",
              "     'width': 640},\n",
              "    {'height': 320,\n",
              "     'url': 'https://i.scdn.co/image/ab6761610000517435ca7d2181258b51c0f2cf9e',\n",
              "     'width': 320},\n",
              "    {'height': 160,\n",
              "     'url': 'https://i.scdn.co/image/ab6761610000f17835ca7d2181258b51c0f2cf9e',\n",
              "     'width': 160}],\n",
              "   'name': '21 Savage',\n",
              "   'popularity': 87,\n",
              "   'type': 'artist',\n",
              "   'uri': 'spotify:artist:1URnnhqYAYcrqrcwql10ft'},\n",
              "  {'external_urls': {'spotify': 'https://open.spotify.com/artist/6l3HvQ5sa6mXTsMTB19rO5'},\n",
              "   'followers': {'href': None, 'total': 21879758},\n",
              "   'genres': ['conscious hip hop', 'hip hop', 'north carolina hip hop', 'rap'],\n",
              "   'href': 'https://api.spotify.com/v1/artists/6l3HvQ5sa6mXTsMTB19rO5',\n",
              "   'id': '6l3HvQ5sa6mXTsMTB19rO5',\n",
              "   'images': [{'height': 640,\n",
              "     'url': 'https://i.scdn.co/image/ab6761610000e5ebadd503b411a712e277895c8a',\n",
              "     'width': 640},\n",
              "    {'height': 320,\n",
              "     'url': 'https://i.scdn.co/image/ab67616100005174add503b411a712e277895c8a',\n",
              "     'width': 320},\n",
              "    {'height': 160,\n",
              "     'url': 'https://i.scdn.co/image/ab6761610000f178add503b411a712e277895c8a',\n",
              "     'width': 160}],\n",
              "   'name': 'J. Cole',\n",
              "   'popularity': 84,\n",
              "   'type': 'artist',\n",
              "   'uri': 'spotify:artist:6l3HvQ5sa6mXTsMTB19rO5'},\n",
              "  {'external_urls': {'spotify': 'https://open.spotify.com/artist/0QHgL1lAIqAw0HtD7YldmP'},\n",
              "   'followers': {'href': None, 'total': 10657518},\n",
              "   'genres': ['hip hop', 'miami hip hop', 'pop rap', 'rap'],\n",
              "   'href': 'https://api.spotify.com/v1/artists/0QHgL1lAIqAw0HtD7YldmP',\n",
              "   'id': '0QHgL1lAIqAw0HtD7YldmP',\n",
              "   'images': [{'height': 640,\n",
              "     'url': 'https://i.scdn.co/image/ab6761610000e5eb084f36c2ae2da4a02494e1e5',\n",
              "     'width': 640},\n",
              "    {'height': 320,\n",
              "     'url': 'https://i.scdn.co/image/ab67616100005174084f36c2ae2da4a02494e1e5',\n",
              "     'width': 320},\n",
              "    {'height': 160,\n",
              "     'url': 'https://i.scdn.co/image/ab6761610000f178084f36c2ae2da4a02494e1e5',\n",
              "     'width': 160}],\n",
              "   'name': 'DJ Khaled',\n",
              "   'popularity': 73,\n",
              "   'type': 'artist',\n",
              "   'uri': 'spotify:artist:0QHgL1lAIqAw0HtD7YldmP'},\n",
              "  {'external_urls': {'spotify': 'https://open.spotify.com/artist/0Y5tJX1MQlPlqiwlOH1tJY'},\n",
              "   'followers': {'href': None, 'total': 25051327},\n",
              "   'genres': ['hip hop', 'rap', 'slap house'],\n",
              "   'href': 'https://api.spotify.com/v1/artists/0Y5tJX1MQlPlqiwlOH1tJY',\n",
              "   'id': '0Y5tJX1MQlPlqiwlOH1tJY',\n",
              "   'images': [{'height': 640,\n",
              "     'url': 'https://i.scdn.co/image/ab6761610000e5eb19c2790744c792d05570bb71',\n",
              "     'width': 640},\n",
              "    {'height': 320,\n",
              "     'url': 'https://i.scdn.co/image/ab6761610000517419c2790744c792d05570bb71',\n",
              "     'width': 320},\n",
              "    {'height': 160,\n",
              "     'url': 'https://i.scdn.co/image/ab6761610000f17819c2790744c792d05570bb71',\n",
              "     'width': 160}],\n",
              "   'name': 'Travis Scott',\n",
              "   'popularity': 90,\n",
              "   'type': 'artist',\n",
              "   'uri': 'spotify:artist:0Y5tJX1MQlPlqiwlOH1tJY'},\n",
              "  {'external_urls': {'spotify': 'https://open.spotify.com/artist/5K4W6rqBFWDnAN6FQUkS6x'},\n",
              "   'followers': {'href': None, 'total': 21951379},\n",
              "   'genres': ['chicago rap', 'hip hop', 'rap'],\n",
              "   'href': 'https://api.spotify.com/v1/artists/5K4W6rqBFWDnAN6FQUkS6x',\n",
              "   'id': '5K4W6rqBFWDnAN6FQUkS6x',\n",
              "   'images': [{'height': 640,\n",
              "     'url': 'https://i.scdn.co/image/ab6761610000e5eb867008a971fae0f4d913f63a',\n",
              "     'width': 640},\n",
              "    {'height': 320,\n",
              "     'url': 'https://i.scdn.co/image/ab67616100005174867008a971fae0f4d913f63a',\n",
              "     'width': 320},\n",
              "    {'height': 160,\n",
              "     'url': 'https://i.scdn.co/image/ab6761610000f178867008a971fae0f4d913f63a',\n",
              "     'width': 160}],\n",
              "   'name': 'Kanye West',\n",
              "   'popularity': 88,\n",
              "   'type': 'artist',\n",
              "   'uri': 'spotify:artist:5K4W6rqBFWDnAN6FQUkS6x'},\n",
              "  {'external_urls': {'spotify': 'https://open.spotify.com/artist/0c173mlxpT3dSFRgMO8XPh'},\n",
              "   'followers': {'href': None, 'total': 11160331},\n",
              "   'genres': ['detroit hip hop', 'hip hop', 'pop rap', 'r&b', 'rap', 'trap'],\n",
              "   'href': 'https://api.spotify.com/v1/artists/0c173mlxpT3dSFRgMO8XPh',\n",
              "   'id': '0c173mlxpT3dSFRgMO8XPh',\n",
              "   'images': [{'height': 640,\n",
              "     'url': 'https://i.scdn.co/image/ab6761610000e5eb89dccc0a0b3d818c8d5fb711',\n",
              "     'width': 640},\n",
              "    {'height': 320,\n",
              "     'url': 'https://i.scdn.co/image/ab6761610000517489dccc0a0b3d818c8d5fb711',\n",
              "     'width': 320},\n",
              "    {'height': 160,\n",
              "     'url': 'https://i.scdn.co/image/ab6761610000f17889dccc0a0b3d818c8d5fb711',\n",
              "     'width': 160}],\n",
              "   'name': 'Big Sean',\n",
              "   'popularity': 74,\n",
              "   'type': 'artist',\n",
              "   'uri': 'spotify:artist:0c173mlxpT3dSFRgMO8XPh'},\n",
              "  {'external_urls': {'spotify': 'https://open.spotify.com/artist/2YZyLoL8N0Wb9xBt1NhZWg'},\n",
              "   'followers': {'href': None, 'total': 25908226},\n",
              "   'genres': ['conscious hip hop', 'hip hop', 'rap', 'west coast rap'],\n",
              "   'href': 'https://api.spotify.com/v1/artists/2YZyLoL8N0Wb9xBt1NhZWg',\n",
              "   'id': '2YZyLoL8N0Wb9xBt1NhZWg',\n",
              "   'images': [{'height': 640,\n",
              "     'url': 'https://i.scdn.co/image/ab6761610000e5eb437b9e2a82505b3d93ff1022',\n",
              "     'width': 640},\n",
              "    {'height': 320,\n",
              "     'url': 'https://i.scdn.co/image/ab67616100005174437b9e2a82505b3d93ff1022',\n",
              "     'width': 320},\n",
              "    {'height': 160,\n",
              "     'url': 'https://i.scdn.co/image/ab6761610000f178437b9e2a82505b3d93ff1022',\n",
              "     'width': 160}],\n",
              "   'name': 'Kendrick Lamar',\n",
              "   'popularity': 86,\n",
              "   'type': 'artist',\n",
              "   'uri': 'spotify:artist:2YZyLoL8N0Wb9xBt1NhZWg'},\n",
              "  {'external_urls': {'spotify': 'https://open.spotify.com/artist/5f7VJjfbwm532GiveGC0ZK'},\n",
              "   'followers': {'href': None, 'total': 15813833},\n",
              "   'genres': ['atl hip hop', 'atl trap', 'rap', 'trap'],\n",
              "   'href': 'https://api.spotify.com/v1/artists/5f7VJjfbwm532GiveGC0ZK',\n",
              "   'id': '5f7VJjfbwm532GiveGC0ZK',\n",
              "   'images': [{'height': 640,\n",
              "     'url': 'https://i.scdn.co/image/ab6761610000e5eb6cad3eff5adc29e20f189a6c',\n",
              "     'width': 640},\n",
              "    {'height': 320,\n",
              "     'url': 'https://i.scdn.co/image/ab676161000051746cad3eff5adc29e20f189a6c',\n",
              "     'width': 320},\n",
              "    {'height': 160,\n",
              "     'url': 'https://i.scdn.co/image/ab6761610000f1786cad3eff5adc29e20f189a6c',\n",
              "     'width': 160}],\n",
              "   'name': 'Lil Baby',\n",
              "   'popularity': 84,\n",
              "   'type': 'artist',\n",
              "   'uri': 'spotify:artist:5f7VJjfbwm532GiveGC0ZK'},\n",
              "  {'external_urls': {'spotify': 'https://open.spotify.com/artist/0iEtIxbK0KxaSlF7G42ZOp'},\n",
              "   'followers': {'href': None, 'total': 6027746},\n",
              "   'genres': ['rap'],\n",
              "   'href': 'https://api.spotify.com/v1/artists/0iEtIxbK0KxaSlF7G42ZOp',\n",
              "   'id': '0iEtIxbK0KxaSlF7G42ZOp',\n",
              "   'images': [{'height': 640,\n",
              "     'url': 'https://i.scdn.co/image/ab6761610000e5ebdf9a1555f53a20087b8c5a5c',\n",
              "     'width': 640},\n",
              "    {'height': 320,\n",
              "     'url': 'https://i.scdn.co/image/ab67616100005174df9a1555f53a20087b8c5a5c',\n",
              "     'width': 320},\n",
              "    {'height': 160,\n",
              "     'url': 'https://i.scdn.co/image/ab6761610000f178df9a1555f53a20087b8c5a5c',\n",
              "     'width': 160}],\n",
              "   'name': 'Metro Boomin',\n",
              "   'popularity': 85,\n",
              "   'type': 'artist',\n",
              "   'uri': 'spotify:artist:0iEtIxbK0KxaSlF7G42ZOp'},\n",
              "  {'external_urls': {'spotify': 'https://open.spotify.com/artist/50co4Is1HCEo8bhOyUWKpn'},\n",
              "   'followers': {'href': None, 'total': 9125254},\n",
              "   'genres': ['atl hip hop',\n",
              "    'atl trap',\n",
              "    'gangster rap',\n",
              "    'melodic rap',\n",
              "    'rap',\n",
              "    'trap'],\n",
              "   'href': 'https://api.spotify.com/v1/artists/50co4Is1HCEo8bhOyUWKpn',\n",
              "   'id': '50co4Is1HCEo8bhOyUWKpn',\n",
              "   'images': [{'height': 640,\n",
              "     'url': 'https://i.scdn.co/image/ab6761610000e5eb547d2b41c9f2c97318aad0ed',\n",
              "     'width': 640},\n",
              "    {'height': 320,\n",
              "     'url': 'https://i.scdn.co/image/ab67616100005174547d2b41c9f2c97318aad0ed',\n",
              "     'width': 320},\n",
              "    {'height': 160,\n",
              "     'url': 'https://i.scdn.co/image/ab6761610000f178547d2b41c9f2c97318aad0ed',\n",
              "     'width': 160}],\n",
              "   'name': 'Young Thug',\n",
              "   'popularity': 81,\n",
              "   'type': 'artist',\n",
              "   'uri': 'spotify:artist:50co4Is1HCEo8bhOyUWKpn'},\n",
              "  {'external_urls': {'spotify': 'https://open.spotify.com/artist/2hlmm7s2ICUX0LVIhVFlZQ'},\n",
              "   'followers': {'href': None, 'total': 6197906},\n",
              "   'genres': ['atl hip hop', 'melodic rap', 'rap', 'trap'],\n",
              "   'href': 'https://api.spotify.com/v1/artists/2hlmm7s2ICUX0LVIhVFlZQ',\n",
              "   'id': '2hlmm7s2ICUX0LVIhVFlZQ',\n",
              "   'images': [{'height': 640,\n",
              "     'url': 'https://i.scdn.co/image/ab6761610000e5eb6501f8a7d50c56e86e46f920',\n",
              "     'width': 640},\n",
              "    {'height': 320,\n",
              "     'url': 'https://i.scdn.co/image/ab676161000051746501f8a7d50c56e86e46f920',\n",
              "     'width': 320},\n",
              "    {'height': 160,\n",
              "     'url': 'https://i.scdn.co/image/ab6761610000f1786501f8a7d50c56e86e46f920',\n",
              "     'width': 160}],\n",
              "   'name': 'Gunna',\n",
              "   'popularity': 82,\n",
              "   'type': 'artist',\n",
              "   'uri': 'spotify:artist:2hlmm7s2ICUX0LVIhVFlZQ'},\n",
              "  {'external_urls': {'spotify': 'https://open.spotify.com/artist/4O15NlyKLIASxsJ0PrXPfz'},\n",
              "   'followers': {'href': None, 'total': 16170809},\n",
              "   'genres': ['hip hop', 'melodic rap', 'philly rap', 'rage rap', 'rap'],\n",
              "   'href': 'https://api.spotify.com/v1/artists/4O15NlyKLIASxsJ0PrXPfz',\n",
              "   'id': '4O15NlyKLIASxsJ0PrXPfz',\n",
              "   'images': [{'height': 640,\n",
              "     'url': 'https://i.scdn.co/image/ab6761610000e5eb1234d2f516796badbdf16a89',\n",
              "     'width': 640},\n",
              "    {'height': 320,\n",
              "     'url': 'https://i.scdn.co/image/ab676161000051741234d2f516796badbdf16a89',\n",
              "     'width': 320},\n",
              "    {'height': 160,\n",
              "     'url': 'https://i.scdn.co/image/ab6761610000f1781234d2f516796badbdf16a89',\n",
              "     'width': 160}],\n",
              "   'name': 'Lil Uzi Vert',\n",
              "   'popularity': 83,\n",
              "   'type': 'artist',\n",
              "   'uri': 'spotify:artist:4O15NlyKLIASxsJ0PrXPfz'},\n",
              "  {'external_urls': {'spotify': 'https://open.spotify.com/artist/13ubrt8QOOCPljQ2FL1Kca'},\n",
              "   'followers': {'href': None, 'total': 13040772},\n",
              "   'genres': ['east coast hip hop', 'hip hop', 'rap', 'trap'],\n",
              "   'href': 'https://api.spotify.com/v1/artists/13ubrt8QOOCPljQ2FL1Kca',\n",
              "   'id': '13ubrt8QOOCPljQ2FL1Kca',\n",
              "   'images': [{'height': 640,\n",
              "     'url': 'https://i.scdn.co/image/ab6761610000e5eb5c58c41a506a0d6b32cc6cad',\n",
              "     'width': 640},\n",
              "    {'height': 320,\n",
              "     'url': 'https://i.scdn.co/image/ab676161000051745c58c41a506a0d6b32cc6cad',\n",
              "     'width': 320},\n",
              "    {'height': 160,\n",
              "     'url': 'https://i.scdn.co/image/ab6761610000f1785c58c41a506a0d6b32cc6cad',\n",
              "     'width': 160}],\n",
              "   'name': 'A$AP Rocky',\n",
              "   'popularity': 79,\n",
              "   'type': 'artist',\n",
              "   'uri': 'spotify:artist:13ubrt8QOOCPljQ2FL1Kca'},\n",
              "  {'external_urls': {'spotify': 'https://open.spotify.com/artist/20sxb77xiYeusSH8cVdatc'},\n",
              "   'followers': {'href': None, 'total': 7662145},\n",
              "   'genres': ['hip hop',\n",
              "    'philly rap',\n",
              "    'pop rap',\n",
              "    'rap',\n",
              "    'southern hip hop',\n",
              "    'trap'],\n",
              "   'href': 'https://api.spotify.com/v1/artists/20sxb77xiYeusSH8cVdatc',\n",
              "   'id': '20sxb77xiYeusSH8cVdatc',\n",
              "   'images': [{'height': 640,\n",
              "     'url': 'https://i.scdn.co/image/ab6761610000e5eb238b2a30c741d42a4c91b7b7',\n",
              "     'width': 640},\n",
              "    {'height': 320,\n",
              "     'url': 'https://i.scdn.co/image/ab67616100005174238b2a30c741d42a4c91b7b7',\n",
              "     'width': 320},\n",
              "    {'height': 160,\n",
              "     'url': 'https://i.scdn.co/image/ab6761610000f178238b2a30c741d42a4c91b7b7',\n",
              "     'width': 160}],\n",
              "   'name': 'Meek Mill',\n",
              "   'popularity': 73,\n",
              "   'type': 'artist',\n",
              "   'uri': 'spotify:artist:20sxb77xiYeusSH8cVdatc'},\n",
              "  {'external_urls': {'spotify': 'https://open.spotify.com/artist/6oMuImdp5ZcFhWP0ESe6mG'},\n",
              "   'followers': {'href': None, 'total': 13583880},\n",
              "   'genres': ['atl hip hop', 'hip hop', 'pop rap', 'rap', 'trap'],\n",
              "   'href': 'https://api.spotify.com/v1/artists/6oMuImdp5ZcFhWP0ESe6mG',\n",
              "   'id': '6oMuImdp5ZcFhWP0ESe6mG',\n",
              "   'images': [{'height': 640,\n",
              "     'url': 'https://i.scdn.co/image/ab6761610000e5ebf4593f7b778219838d858c34',\n",
              "     'width': 640},\n",
              "    {'height': 320,\n",
              "     'url': 'https://i.scdn.co/image/ab67616100005174f4593f7b778219838d858c34',\n",
              "     'width': 320},\n",
              "    {'height': 160,\n",
              "     'url': 'https://i.scdn.co/image/ab6761610000f178f4593f7b778219838d858c34',\n",
              "     'width': 160}],\n",
              "   'name': 'Migos',\n",
              "   'popularity': 74,\n",
              "   'type': 'artist',\n",
              "   'uri': 'spotify:artist:6oMuImdp5ZcFhWP0ESe6mG'},\n",
              "  {'external_urls': {'spotify': 'https://open.spotify.com/artist/2jku7tDXc6XoB6MO2hFuqg'},\n",
              "   'followers': {'href': None, 'total': 6120494},\n",
              "   'genres': ['canadian hip hop',\n",
              "    'canadian trap',\n",
              "    'melodic rap',\n",
              "    'pop rap',\n",
              "    'r&b',\n",
              "    'rap',\n",
              "    'trap'],\n",
              "   'href': 'https://api.spotify.com/v1/artists/2jku7tDXc6XoB6MO2hFuqg',\n",
              "   'id': '2jku7tDXc6XoB6MO2hFuqg',\n",
              "   'images': [{'height': 640,\n",
              "     'url': 'https://i.scdn.co/image/ab6761610000e5ebbd5d3e1b363c3e26710661c3',\n",
              "     'width': 640},\n",
              "    {'height': 320,\n",
              "     'url': 'https://i.scdn.co/image/ab67616100005174bd5d3e1b363c3e26710661c3',\n",
              "     'width': 320},\n",
              "    {'height': 160,\n",
              "     'url': 'https://i.scdn.co/image/ab6761610000f178bd5d3e1b363c3e26710661c3',\n",
              "     'width': 160}],\n",
              "   'name': 'Tory Lanez',\n",
              "   'popularity': 78,\n",
              "   'type': 'artist',\n",
              "   'uri': 'spotify:artist:2jku7tDXc6XoB6MO2hFuqg'},\n",
              "  {'external_urls': {'spotify': 'https://open.spotify.com/artist/2EMAnMvWE2eb56ToJVfCWs'},\n",
              "   'followers': {'href': None, 'total': 7633366},\n",
              "   'genres': ['kentucky hip hop', 'r&b', 'rap'],\n",
              "   'href': 'https://api.spotify.com/v1/artists/2EMAnMvWE2eb56ToJVfCWs',\n",
              "   'id': '2EMAnMvWE2eb56ToJVfCWs',\n",
              "   'images': [{'height': 640,\n",
              "     'url': 'https://i.scdn.co/image/ab6761610000e5eb078fdd734b7f0aa782328428',\n",
              "     'width': 640},\n",
              "    {'height': 320,\n",
              "     'url': 'https://i.scdn.co/image/ab67616100005174078fdd734b7f0aa782328428',\n",
              "     'width': 320},\n",
              "    {'height': 160,\n",
              "     'url': 'https://i.scdn.co/image/ab6761610000f178078fdd734b7f0aa782328428',\n",
              "     'width': 160}],\n",
              "   'name': 'Bryson Tiller',\n",
              "   'popularity': 77,\n",
              "   'type': 'artist',\n",
              "   'uri': 'spotify:artist:2EMAnMvWE2eb56ToJVfCWs'},\n",
              "  {'external_urls': {'spotify': 'https://open.spotify.com/artist/2HPaUgqeutzr3jx5a9WyDV'},\n",
              "   'followers': {'href': None, 'total': 5887822},\n",
              "   'genres': ['r&b', 'rap', 'urban contemporary'],\n",
              "   'href': 'https://api.spotify.com/v1/artists/2HPaUgqeutzr3jx5a9WyDV',\n",
              "   'id': '2HPaUgqeutzr3jx5a9WyDV',\n",
              "   'images': [{'height': 640,\n",
              "     'url': 'https://i.scdn.co/image/ab6761610000e5eb4e3dee8baac75dad1fea791e',\n",
              "     'width': 640},\n",
              "    {'height': 320,\n",
              "     'url': 'https://i.scdn.co/image/ab676161000051744e3dee8baac75dad1fea791e',\n",
              "     'width': 320},\n",
              "    {'height': 160,\n",
              "     'url': 'https://i.scdn.co/image/ab6761610000f1784e3dee8baac75dad1fea791e',\n",
              "     'width': 160}],\n",
              "   'name': 'PARTYNEXTDOOR',\n",
              "   'popularity': 76,\n",
              "   'type': 'artist',\n",
              "   'uri': 'spotify:artist:2HPaUgqeutzr3jx5a9WyDV'},\n",
              "  {'external_urls': {'spotify': 'https://open.spotify.com/artist/55Aa2cqylxrFIXC767Z865'},\n",
              "   'followers': {'href': None, 'total': 14186962},\n",
              "   'genres': ['hip hop', 'new orleans rap', 'pop rap', 'rap', 'trap'],\n",
              "   'href': 'https://api.spotify.com/v1/artists/55Aa2cqylxrFIXC767Z865',\n",
              "   'id': '55Aa2cqylxrFIXC767Z865',\n",
              "   'images': [{'height': 640,\n",
              "     'url': 'https://i.scdn.co/image/ab6761610000e5ebc1c08e541eae3cc82c6988c4',\n",
              "     'width': 640},\n",
              "    {'height': 320,\n",
              "     'url': 'https://i.scdn.co/image/ab67616100005174c1c08e541eae3cc82c6988c4',\n",
              "     'width': 320},\n",
              "    {'height': 160,\n",
              "     'url': 'https://i.scdn.co/image/ab6761610000f178c1c08e541eae3cc82c6988c4',\n",
              "     'width': 160}],\n",
              "   'name': 'Lil Wayne',\n",
              "   'popularity': 83,\n",
              "   'type': 'artist',\n",
              "   'uri': 'spotify:artist:55Aa2cqylxrFIXC767Z865'}]}"
            ]
          },
          "metadata": {},
          "execution_count": 8
        }
      ]
    },
    {
      "cell_type": "code",
      "source": [
        "#use as reference https://kworb.net/spotify/artists.html to find the top 3000 top stremed artists\n",
        "fp = urllib.request.urlopen(\"https://kworb.net/spotify/artists.html\")\n",
        "mybytes = fp.read()\n",
        "mystr = mybytes.decode(\"utf8\")\n",
        "fp.close()\n"
      ],
      "metadata": {
        "id": "9QQE-5bg5ySV"
      },
      "execution_count": null,
      "outputs": []
    },
    {
      "cell_type": "code",
      "source": [
        "def remove_bound(string):\n",
        "  string = str(string)\n",
        "  string = string.split('>')[1]\n",
        "  string = string.split('<')[0]\n",
        "  return string"
      ],
      "metadata": {
        "id": "cJiRefft6HqQ"
      },
      "execution_count": null,
      "outputs": []
    },
    {
      "cell_type": "code",
      "source": [
        "#we exploit BeautifulSoupt in order to crawl the artists' names\n",
        "#these will be used as a starting point for building the graph\n",
        "\n",
        "from bs4 import BeautifulSoup\n",
        "\n",
        "data_info = []\n",
        "artist_names = []\n",
        "\n",
        "soup = BeautifulSoup(mystr)\n",
        "columns = soup.find_all('th')\n",
        "artists = soup.find_all('a')\n",
        "\n",
        "for col in columns:\n",
        "  col = remove_bound(col)\n",
        "  data_info.append(col)\n",
        "\n",
        "for artist in artists:\n",
        "  artist = remove_bound(artist)\n",
        "  artist_names.append(artist)\n",
        "\n",
        "artist_names = artist_names[14:]\n"
      ],
      "metadata": {
        "id": "m7CVq6Wr5BV5"
      },
      "execution_count": null,
      "outputs": []
    },
    {
      "cell_type": "code",
      "source": [
        "(len(artist_names), artist_names[:10])"
      ],
      "metadata": {
        "colab": {
          "base_uri": "https://localhost:8080/"
        },
        "id": "ee8k7i6WmESy",
        "outputId": "246751b6-360c-4aec-cca4-1850b78b798a"
      },
      "execution_count": null,
      "outputs": [
        {
          "output_type": "execute_result",
          "data": {
            "text/plain": [
              "(3000,\n",
              " ['Drake',\n",
              "  'Bad Bunny',\n",
              "  'Taylor Swift',\n",
              "  'The Weeknd',\n",
              "  'Ed Sheeran',\n",
              "  'Justin Bieber',\n",
              "  'Eminem',\n",
              "  'Ariana Grande',\n",
              "  'J Balvin',\n",
              "  'Travis Scott'])"
            ]
          },
          "metadata": {},
          "execution_count": 12
        }
      ]
    },
    {
      "cell_type": "code",
      "source": [
        "artists_name_list = artist_names\n",
        "artists_name_list = [x.replace('&amp;',\"&\") for x in artists_name_list]\n",
        "print('There are', len(artists_name_list), 'artists in the initial list.')"
      ],
      "metadata": {
        "colab": {
          "base_uri": "https://localhost:8080/"
        },
        "id": "YaMVflTUW917",
        "outputId": "b5345d58-4952-4835-8f82-9f0780a89381"
      },
      "execution_count": null,
      "outputs": [
        {
          "output_type": "stream",
          "name": "stdout",
          "text": [
            "There are 3000 artists in the initial list.\n"
          ]
        }
      ]
    },
    {
      "cell_type": "code",
      "source": [
        "#we set a popularity_threshold for the artists to add in the graph in order to avoid too \"noisy\" elements (artists with very small population/relevance)\n",
        "popularity_threshold = 20"
      ],
      "metadata": {
        "id": "Plb34wvtYGXT"
      },
      "execution_count": null,
      "outputs": []
    },
    {
      "cell_type": "code",
      "source": [
        "G = nx.Graph()"
      ],
      "metadata": {
        "id": "TecpoOLgZh0j"
      },
      "execution_count": null,
      "outputs": []
    },
    {
      "cell_type": "code",
      "source": [
        "#we add the main artists in an empty graph along with their attributes\n",
        "for name in artists_name_list:\n",
        "    search = sp.search(name, type='artist')['artists']['items'][0]\n",
        "    curr_artist = artist_features(search)\n",
        "\n",
        "    if curr_artist['artist_popularity'] >= popularity_threshold:\n",
        "        G.add_node(curr_artist['artist_name'], **curr_artist, related_found=False)"
      ],
      "metadata": {
        "id": "iH2qz2AUW93_"
      },
      "execution_count": null,
      "outputs": []
    },
    {
      "cell_type": "code",
      "source": [
        "#the while loop allows us to build the final graph:\n",
        "#at each iteration, if we haven't checked and added the realted artists of one of the nodes in the graph\n",
        "#we identify the related artists with spotipy and add them to the graph.\n",
        "\n",
        "#the process ends after a threshold size value is reached in order to avoid a too large graph with too much \"less relevant\" artists\n",
        "\n",
        "stop = False\n",
        "\n",
        "while stop == False:\n",
        "    l = len(G) # number of nodes in the graph currently\n",
        "\n",
        "    for node in list(G): #for each node\n",
        "        if G.nodes[node]['related_found'] == False: # initialize the artist with False considering his/her related\n",
        "            relateds = sp.artist_related_artists(G.nodes[node]['artist_id'])['artists']\n",
        "\n",
        "            relateds = [artist_features(r) for r in relateds]\n",
        "            relateds_names = [r['artist_name'] for r in relateds]\n",
        "            G.nodes[node]['related_found'] = True # we found the related artists, so we set at True its attribute\n",
        "\n",
        "            for name, rdict in zip(relateds_names, relateds):\n",
        "                if rdict['artist_popularity'] >= popularity_threshold: #set a popularity threshold to avoid not relevant artists\n",
        "\n",
        "                    if name in G: # node already in G\n",
        "                        pass # do nothing\n",
        "\n",
        "                    else:\n",
        "                        G.add_node(name, **rdict, related_found=False) # we added a new node, we don't know its relateds yet\n",
        "\n",
        "\n",
        "                    G.add_edge(node, name) # we add an edge between x and its related name\n",
        "\n",
        "    if len(G) == l or len(G) > 60000: #we add a stopping condition to containt the extraction\n",
        "        stop = True\n",
        "        print('Done.')"
      ],
      "metadata": {
        "id": "3ADBkEl3mAT5"
      },
      "execution_count": null,
      "outputs": []
    },
    {
      "cell_type": "code",
      "source": [
        "#for each artist we save in an extra attribute called 'main_genre' the first element of the 'artist_first_genre' list associated with the node\n",
        "for node in G.nodes():\n",
        "  G.nodes[node]['main_genre'] = G.nodes[node]['artist_first_genre'][0]"
      ],
      "metadata": {
        "id": "ipgZtkuBcJhs"
      },
      "execution_count": null,
      "outputs": []
    },
    {
      "cell_type": "code",
      "source": [
        "# save graph object to file\n",
        "pickle.dump(G, open('artists_graph_20.pickle', 'wb'))"
      ],
      "metadata": {
        "id": "VfryYks5mAV7"
      },
      "execution_count": null,
      "outputs": []
    },
    {
      "cell_type": "code",
      "source": [
        "G_raw = nx.Graph()\n",
        "for u, v in G.edges():\n",
        "  G_raw.add_edge(u,v)\n",
        "nx.write_gexf(G_raw,\"artists_graph.gexf\")"
      ],
      "metadata": {
        "id": "BwRA1305Ui4i"
      },
      "execution_count": 5,
      "outputs": []
    }
  ]
}