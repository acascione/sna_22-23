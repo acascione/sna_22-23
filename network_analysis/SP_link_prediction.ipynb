{
  "cells": [
    {
      "cell_type": "markdown",
      "source": [
        "# Link Prediction\n",
        "\n",
        "We perform unsupervised and supervised link predictions task. Major implementation choices and specifics are described in comments in the blocks"
      ],
      "metadata": {
        "id": "K9rvBqNo_LEt"
      }
    },
    {
      "cell_type": "markdown",
      "source": [
        "### Import library and pre-processing"
      ],
      "metadata": {
        "id": "C0CQiT06_QL5"
      }
    },
    {
      "cell_type": "code",
      "source": [
        "from IPython.display import clear_output"
      ],
      "metadata": {
        "id": "xswt9VHA_LU4"
      },
      "execution_count": null,
      "outputs": []
    },
    {
      "cell_type": "code",
      "execution_count": null,
      "metadata": {
        "id": "034A5TWmt9yF",
        "colab": {
          "base_uri": "https://localhost:8080/"
        },
        "outputId": "aacbf22b-5b8c-47f7-c96b-c89981d42055"
      },
      "outputs": [
        {
          "output_type": "stream",
          "name": "stdout",
          "text": [
            "env: PYTHONPATH=# /env/python\n"
          ]
        }
      ],
      "source": [
        "%env PYTHONPATH = # /env/python"
      ]
    },
    {
      "cell_type": "code",
      "execution_count": null,
      "metadata": {
        "id": "AlIh04Not90H"
      },
      "outputs": [],
      "source": [
        "!wget https://repo.anaconda.com/miniconda/Miniconda3-py38_4.12.0-Linux-x86_64.sh\n",
        "!chmod +x Miniconda3-py38_4.12.0-Linux-x86_64.sh\n",
        "!./Miniconda3-py38_4.12.0-Linux-x86_64.sh -b -f -p /usr/local\n",
        "!conda update conda -y\n",
        "\n",
        "clear_output()"
      ]
    },
    {
      "cell_type": "code",
      "execution_count": null,
      "metadata": {
        "id": "4sHPuKdnt92N"
      },
      "outputs": [],
      "source": [
        "import sys\n",
        "sys.path.append('/usr/local/lib/python3.8/site-packages')"
      ]
    },
    {
      "cell_type": "code",
      "execution_count": null,
      "metadata": {
        "id": "MQunUA1It94S"
      },
      "outputs": [],
      "source": [
        "!conda create -n myenv python=3.8 - y\n",
        "clear_output()"
      ]
    },
    {
      "cell_type": "code",
      "execution_count": null,
      "metadata": {
        "id": "9Fpxh180t96Y"
      },
      "outputs": [],
      "source": [
        "%%shell\n",
        "eval \"$(conda shell.bash hook)\"\n",
        "conda activate myenv\n",
        "\n",
        "pip install linkpred\n",
        "pip install stellargraph\n",
        "pip install node2vec\n",
        "pip uninstall pyOpenSSL -y"
      ]
    },
    {
      "cell_type": "code",
      "execution_count": null,
      "metadata": {
        "colab": {
          "base_uri": "https://localhost:8080/"
        },
        "id": "MscYx7lDw-hp",
        "outputId": "6911143f-6cb1-49f5-c923-7c6c0cac8dc3"
      },
      "outputs": [
        {
          "output_type": "stream",
          "name": "stdout",
          "text": [
            "Python 3.8.17\n"
          ]
        }
      ],
      "source": [
        "#python version 3.8 required for compatibility with StellarGraph\n",
        "!python --version"
      ]
    },
    {
      "cell_type": "code",
      "execution_count": null,
      "metadata": {
        "id": "AZhrKq0pt98d"
      },
      "outputs": [],
      "source": [
        "import pandas as pd\n",
        "import numpy as np\n",
        "import networkx as nx\n",
        "import matplotlib.pyplot as plt\n",
        "import pickle\n",
        "import linkpred\n",
        "import node2vec\n",
        "\n",
        "import random\n",
        "import itertools\n",
        "from linkpred.evaluation import Pair\n",
        "import warnings\n",
        "\n",
        "from stellargraph import StellarGraph\n",
        "from stellargraph.data import EdgeSplitter\n",
        "\n",
        "from sklearn.model_selection import train_test_split\n",
        "from sklearn.metrics import accuracy_score, classification_report, precision_score, recall_score, confusion_matrix\n",
        "from sklearn.metrics import precision_recall_fscore_support, f1_score, roc_curve, roc_auc_score, auc, precision_recall_curve\n",
        "from sklearn.model_selection import StratifiedKFold, ParameterGrid,  GridSearchCV\n",
        "\n",
        "\n",
        "from sklearn.tree import DecisionTreeClassifier\n",
        "from sklearn.linear_model import LogisticRegression\n",
        "from sklearn.neighbors import KNeighborsClassifier"
      ]
    },
    {
      "cell_type": "code",
      "execution_count": null,
      "metadata": {
        "id": "iFwN3hd5wE5a"
      },
      "outputs": [],
      "source": [
        "with open(\"artists_graph_20.pickle\", 'rb') as f:  # notice the r instead of w\n",
        "    G = pickle.load(f)"
      ]
    },
    {
      "cell_type": "code",
      "execution_count": null,
      "metadata": {
        "colab": {
          "base_uri": "https://localhost:8080/"
        },
        "id": "ob1nVD_iwE5b",
        "outputId": "df3e4c49-384d-4fb3-f20c-0ff2c44d9ca0"
      },
      "outputs": [
        {
          "output_type": "execute_result",
          "data": {
            "text/plain": [
              "False"
            ]
          },
          "metadata": {},
          "execution_count": 10
        }
      ],
      "source": [
        "node_degrees = {node: val for (node, val) in G.degree()}\n",
        "node_degrees\n",
        "G_filtered = (G.subgraph([k for k, v in node_degrees.items() if v >= 40])).copy()\n",
        "nx.is_frozen(G_filtered)\n",
        "\n",
        "#adding .copy() is needed to avoid that the result of .subgraph() will be a frozen graph,\n",
        "#from which we can't delete further nodes.\n",
        "\n",
        "#we follow the guide in https://networkx.org/documentation/stable/reference/generated/networkx.classes.function.freeze.html"
      ]
    },
    {
      "cell_type": "code",
      "execution_count": null,
      "metadata": {
        "colab": {
          "base_uri": "https://localhost:8080/"
        },
        "id": "ntRleQgjwE5c",
        "outputId": "f49fcc6f-09fe-47d5-9df4-6ebbe76f4b22"
      },
      "outputs": [
        {
          "output_type": "execute_result",
          "data": {
            "text/plain": [
              "(850, 2703)"
            ]
          },
          "metadata": {},
          "execution_count": 11
        }
      ],
      "source": [
        "#we only keep nodes having a degree higher then 40\n",
        "\n",
        "(len(G_filtered.nodes()), len(G_filtered.edges()))"
      ]
    },
    {
      "cell_type": "code",
      "execution_count": null,
      "metadata": {
        "id": "VDF82ZnXwE5d"
      },
      "outputs": [],
      "source": [
        "graph_components = sorted(nx.connected_components(G_filtered), key=len, reverse=True)"
      ]
    },
    {
      "cell_type": "code",
      "execution_count": null,
      "metadata": {
        "colab": {
          "base_uri": "https://localhost:8080/"
        },
        "id": "6KW1aU9MwE5d",
        "outputId": "d4b0b804-3adb-4a83-c701-dbf0cca4811c"
      },
      "outputs": [
        {
          "output_type": "execute_result",
          "data": {
            "text/plain": [
              "184"
            ]
          },
          "metadata": {},
          "execution_count": 13
        }
      ],
      "source": [
        "del_nodes = []\n",
        "for component in graph_components:\n",
        "  if len(component) <= 5:\n",
        "    for node in component:\n",
        "      del_nodes.append(node)\n",
        "\n",
        "len(del_nodes)"
      ]
    },
    {
      "cell_type": "code",
      "execution_count": null,
      "metadata": {
        "id": "1WHB34P8wE5e"
      },
      "outputs": [],
      "source": [
        "G_filtered.remove_nodes_from(del_nodes)"
      ]
    },
    {
      "cell_type": "code",
      "execution_count": null,
      "metadata": {
        "colab": {
          "base_uri": "https://localhost:8080/"
        },
        "id": "rMaZMWqCwE5e",
        "outputId": "994ab32f-0ca1-43e7-fa71-0e3c63c49bc5"
      },
      "outputs": [
        {
          "output_type": "execute_result",
          "data": {
            "text/plain": [
              "(666, 2582)"
            ]
          },
          "metadata": {},
          "execution_count": 15
        }
      ],
      "source": [
        "#we further filter out in terms of components size\n",
        "(len(G_filtered.nodes()), len(G_filtered.edges()))"
      ]
    },
    {
      "cell_type": "markdown",
      "metadata": {
        "id": "K_MWcfiVAZi-"
      },
      "source": [
        "### Unsupervised link prediction"
      ]
    },
    {
      "cell_type": "code",
      "execution_count": null,
      "metadata": {
        "id": "4CypK59i-NxB"
      },
      "outputs": [],
      "source": [
        "H = G_filtered.copy()\n",
        "test_size = int(len(H) * 0.3) #keep a 30% test set"
      ]
    },
    {
      "cell_type": "code",
      "execution_count": null,
      "metadata": {
        "colab": {
          "base_uri": "https://localhost:8080/"
        },
        "id": "nA116KEfPTwR",
        "outputId": "ad5e28da-3cc9-415b-c1ad-06d7aad5e14a"
      },
      "outputs": [
        {
          "output_type": "stream",
          "name": "stdout",
          "text": [
            "Training nodes:  666\n",
            "Training edges:  2357\n",
            "Test nodes:  199\n",
            "Test edges:  225\n"
          ]
        },
        {
          "output_type": "stream",
          "name": "stderr",
          "text": [
            "<ipython-input-17-ac7816e94b1a>:2: DeprecationWarning: Sampling from a set deprecated\n",
            "since Python 3.9 and will be removed in a subsequent version.\n",
            "  test = H.subgraph(random.sample(H.nodes(), test_size))\n"
          ]
        }
      ],
      "source": [
        "random.seed(42)\n",
        "test = H.subgraph(random.sample(H.nodes(), test_size))\n",
        "training = H.copy()\n",
        "training.remove_edges_from(test.edges())\n",
        "\n",
        "print(\"Training nodes: \", len(training.nodes()))\n",
        "print(\"Training edges: \", len(training.edges()))\n",
        "\n",
        "print(\"Test nodes: \", len(test.nodes()))\n",
        "print(\"Test edges: \", len(test.edges()))\n",
        "\n"
      ]
    },
    {
      "cell_type": "code",
      "execution_count": null,
      "metadata": {
        "id": "niwebj37Decf"
      },
      "outputs": [],
      "source": [
        "# Node set\n",
        "nodes = list(H.nodes())\n",
        "nodes.extend(list(test.nodes()))"
      ]
    },
    {
      "cell_type": "code",
      "execution_count": null,
      "metadata": {
        "id": "qyn5yjA7Abta"
      },
      "outputs": [],
      "source": [
        "# Compute the test set and the universe set\n",
        "test = [Pair(i) for i in test.edges()]\n",
        "universe = set([Pair(i) for i in itertools.product(nodes, nodes) if i[0]!=i[1]])"
      ]
    },
    {
      "cell_type": "code",
      "source": [
        "len(universe)"
      ],
      "metadata": {
        "colab": {
          "base_uri": "https://localhost:8080/"
        },
        "id": "UajkF1vpPmaq",
        "outputId": "220549d6-01d6-4961-ef01-f1854d1844d1"
      },
      "execution_count": null,
      "outputs": [
        {
          "output_type": "execute_result",
          "data": {
            "text/plain": [
              "221445"
            ]
          },
          "metadata": {},
          "execution_count": 20
        }
      ]
    },
    {
      "cell_type": "code",
      "execution_count": null,
      "metadata": {
        "id": "JljXyBBkWhcf"
      },
      "outputs": [],
      "source": [
        "#perform unsupervised training and predictions with different methods\n",
        "\n",
        "cn = linkpred.predictors.CommonNeighbours(training, excluded=training.edges())\n",
        "cn_results = cn.predict()\n",
        "\n",
        "aa = linkpred.predictors.AdamicAdar(training, excluded=training.edges())\n",
        "aa_results = aa.predict()\n",
        "\n",
        "jc = linkpred.predictors.Jaccard(training, excluded=training.edges())\n",
        "jc_results = jc.predict()\n",
        "\n",
        "simrank = linkpred.predictors.SimRank(training, excluded=training.edges())\n",
        "simrank_results_03 = simrank.predict(c=0.3)\n",
        "simrank_results_05 = simrank.predict(c=0.5)\n",
        "simrank_results_07 = simrank.predict(c=0.7)\n",
        "\n",
        "random = linkpred.predictors.Random(training, excluded=training.edges())\n",
        "rnd_results = random.predict()"
      ]
    },
    {
      "cell_type": "code",
      "source": [
        "print('\\n CommonNeighbours \\n')\n",
        "\n",
        "top = cn_results.top(10)\n",
        "for edge, score in top.items():\n",
        "    print(edge, score, end = '\\n')\n",
        "\n",
        "print('\\n AdamicAdar \\n')\n",
        "\n",
        "top = aa_results.top(10)\n",
        "for edge, score in top.items():\n",
        "    print(edge, score, end = '\\n')\n",
        "\n",
        "print('\\n Jaccard \\n')\n",
        "\n",
        "top = jc_results.top(10)\n",
        "for edge, score in top.items():\n",
        "    print(edge, score, end = '\\n')\n",
        "\n",
        "print('\\n SimRank_03 \\n')\n",
        "\n",
        "top = simrank_results_03.top(10)\n",
        "for edge, score in top.items():\n",
        "    print(edge, score, end = '\\n')\n",
        "\n",
        "print('\\n SimRank_05 \\n')\n",
        "\n",
        "top = simrank_results_05.top(10)\n",
        "for edge, score in top.items():\n",
        "    print(edge, score, end = '\\n')\n",
        "\n",
        "\n",
        "print('\\n SimRank_07 \\n')\n",
        "\n",
        "top = simrank_results_07.top(10)\n",
        "for edge, score in top.items():\n",
        "    print(edge, score, end = '\\n')\n",
        "\n",
        "\n",
        "print('\\n Random \\n')\n",
        "\n",
        "top = rnd_results.top(10)\n",
        "for edge, score in top.items():\n",
        "    print(edge, score, end = '\\n')"
      ],
      "metadata": {
        "colab": {
          "base_uri": "https://localhost:8080/"
        },
        "id": "_AwE9UFoQ9O1",
        "outputId": "16f65d86-193f-41ef-b288-b159bcb50fd0"
      },
      "execution_count": null,
      "outputs": [
        {
          "output_type": "stream",
          "name": "stdout",
          "text": [
            "\n",
            " CommonNeighbours \n",
            "\n",
            "Neeraj Shridhar - Anu Malik 20.0\n",
            "Sviatoslav Richter - Mikhail Pletnev 19.0\n",
            "Mikhail Pletnev - Dinu Lipatti 18.0\n",
            "Sviatoslav Richter - Nelson Freire 17.0\n",
            "Vishal Dadlani - Rekha Bhardwaj 16.0\n",
            "Roop Kumar Rathod - Benny Dayal 16.0\n",
            "Nelson Freire - Murray Perahia 16.0\n",
            "Murray Perahia - Mikhail Pletnev 16.0\n",
            "Vishal Dadlani - Shaan 15.0\n",
            "Javed Ali - Anu Malik 15.0\n",
            "\n",
            " AdamicAdar \n",
            "\n",
            "Sentidos Opuestos - Paty Cantú 8.212593551369139\n",
            "Neeraj Shridhar - Anu Malik 6.853027752139031\n",
            "Sviatoslav Richter - Mikhail Pletnev 6.630917267210951\n",
            "Mikhail Pletnev - Dinu Lipatti 6.211183451205195\n",
            "Sviatoslav Richter - Nelson Freire 5.798549383366537\n",
            "Murray Perahia - Mikhail Pletnev 5.433614137622257\n",
            "Nelson Freire - Murray Perahia 5.414463917371048\n",
            "Vishal Dadlani - Rekha Bhardwaj 5.391056197113636\n",
            "Roop Kumar Rathod - Benny Dayal 5.156827382311581\n",
            "Javed Ali - Anu Malik 5.066105711375186\n",
            "\n",
            " Jaccard \n",
            "\n",
            "neko - Dsippy 1.0\n",
            "neko - DJ Davion 1.0\n",
            "glexks - PHOROMANE 1.0\n",
            "dopesmoke - WorkRate 1.0\n",
            "dopesmoke - Izzpot 1.0\n",
            "Yahir - Sandoval 1.0\n",
            "Yahir - Reyli Barba 1.0\n",
            "Yahir - Kalimba 1.0\n",
            "XanduIsBored - The Stupendium 1.0\n",
            "WorkRate - Izzpot 1.0\n",
            "\n",
            " SimRank_03 \n",
            "\n",
            "Nio Garcia - Casper Magico 0.30000136511551956\n",
            "Vamp - Odd Nordstoga 0.1614363427113324\n",
            "Vamp - Morten Abel 0.1614363427113324\n",
            "Vamp - D.D.E. 0.1614363427113324\n",
            "Odd Nordstoga - Morten Abel 0.1614363427113324\n",
            "Odd Nordstoga - D.D.E. 0.1614363427113324\n",
            "Morten Abel - D.D.E. 0.1614363427113324\n",
            "Trace Adkins - Montgomery Gentry 0.16010619135545756\n",
            "Yahir - Sandoval 0.15984180109727747\n",
            "Yahir - Reyli Barba 0.15984180109727747\n",
            "\n",
            " SimRank_05 \n",
            "\n",
            "Nio Garcia - Casper Magico 0.5000022558710633\n",
            "Vamp - Odd Nordstoga 0.29226967537583665\n",
            "Vamp - Morten Abel 0.29226967537583665\n",
            "Vamp - D.D.E. 0.29226967537583665\n",
            "Odd Nordstoga - Morten Abel 0.29226967537583665\n",
            "Odd Nordstoga - D.D.E. 0.29226967537583665\n",
            "Morten Abel - D.D.E. 0.29226967537583665\n",
            "Yahir - Sandoval 0.287496350880849\n",
            "Yahir - Reyli Barba 0.287496350880849\n",
            "Yahir - Kalimba 0.287496350880849\n",
            "\n",
            " SimRank_07 \n",
            "\n",
            "Nio Garcia - Casper Magico 0.7000031470664739\n",
            "Vamp - Odd Nordstoga 0.4627828399837011\n",
            "Vamp - Morten Abel 0.4627828399837011\n",
            "Vamp - D.D.E. 0.4627828399837011\n",
            "Odd Nordstoga - Morten Abel 0.4627828399837011\n",
            "Odd Nordstoga - D.D.E. 0.4627828399837011\n",
            "Morten Abel - D.D.E. 0.4627828399837011\n",
            "Yahir - Sandoval 0.45189984654895227\n",
            "Yahir - Reyli Barba 0.45189984654895227\n",
            "Yahir - Kalimba 0.45189984654895227\n",
            "\n",
            " Random \n",
            "\n",
            "N.A.N.A. - KNALLER 0.9999978438570691\n",
            "Jagjit Singh - Bernhard Brink 0.9999939217915454\n",
            "Leven Kali - Kamal Heer 0.9999924019457994\n",
            "dj nh - LETS GO 0.9999897912132666\n",
            "Odd Nordstoga - DJ Ritmo55 0.9999888593078554\n",
            "Wk - Matt Hansen 0.9999847408736018\n",
            "Sentidos Opuestos - Douwe Bob 0.9999788698664548\n",
            "Shreya Ghoshal - Kulwinder Dhillon 0.9999785785710836\n",
            "Oliver Schories - Birkan Nasuhoğlu 0.9999752392049762\n",
            "Suzonn - Angus MacRae 0.9999752189136286\n"
          ]
        }
      ]
    },
    {
      "cell_type": "code",
      "source": [
        "cn_evaluation = linkpred.evaluation.EvaluationSheet(cn_results, test, universe)"
      ],
      "metadata": {
        "id": "sP_mDTuSTRji"
      },
      "execution_count": null,
      "outputs": []
    },
    {
      "cell_type": "code",
      "source": [
        "aa_evaluation = linkpred.evaluation.EvaluationSheet(aa_results, test, universe)"
      ],
      "metadata": {
        "id": "unRqLCfydB3a"
      },
      "execution_count": null,
      "outputs": []
    },
    {
      "cell_type": "code",
      "source": [
        "jc_evaluation = linkpred.evaluation.EvaluationSheet(jc_results, test, universe)"
      ],
      "metadata": {
        "id": "LpGmp7wadB5o"
      },
      "execution_count": null,
      "outputs": []
    },
    {
      "cell_type": "code",
      "source": [
        "rn_evaluation = linkpred.evaluation.EvaluationSheet(rnd_results, test, universe)"
      ],
      "metadata": {
        "id": "EgotExAsgoXn"
      },
      "execution_count": null,
      "outputs": []
    },
    {
      "cell_type": "code",
      "source": [
        "simrank_evaluation_03 = linkpred.evaluation.EvaluationSheet(simrank_results_03, test, universe)\n",
        "simrank_evaluation_05 = linkpred.evaluation.EvaluationSheet(simrank_results_05, test, universe)\n",
        "simrank_evaluation_07 = linkpred.evaluation.EvaluationSheet(simrank_results_07, test, universe)"
      ],
      "metadata": {
        "id": "v7SiGeiQDD8J"
      },
      "execution_count": null,
      "outputs": []
    },
    {
      "cell_type": "code",
      "source": [
        "evaluations_dict = {'CommonNeighbors' : cn_evaluation, 'AdamicAdar' : aa_evaluation,\n",
        "                'Jaccard' : jc_evaluation, 'SimRank_03' :simrank_evaluation_03,\n",
        "                'SimRank_05' : simrank_evaluation_05, 'SimRank_07' : simrank_evaluation_07,\n",
        "                'Random' : rn_evaluation}\n",
        "\n",
        "evaluations_dict_AUC = { method : auc(evaluation.fallout(), evaluation.recall()) for method, evaluation in evaluations_dict.items()}\n",
        "evaluations_dict_AUC_PR = { method : auc(evaluation.recall(), evaluation.precision()) for method, evaluation in evaluations_dict.items()}\n",
        "\n",
        "(evaluations_dict_AUC,evaluations_dict_AUC_PR)"
      ],
      "metadata": {
        "colab": {
          "base_uri": "https://localhost:8080/"
        },
        "id": "qujpb_aRfqF7",
        "outputId": "0b595d12-613a-4ee8-9508-567831365c9c"
      },
      "execution_count": null,
      "outputs": [
        {
          "output_type": "execute_result",
          "data": {
            "text/plain": [
              "({'CommonNeighbors': 0.006226139890907995,\n",
              "  'AdamicAdar': 0.006803101989974787,\n",
              "  'Jaccard': 0.008460034756752957,\n",
              "  'SimRank_03': 0.9867957488272107,\n",
              "  'SimRank_05': 0.9863949612753519,\n",
              "  'SimRank_07': 0.9849662779133895,\n",
              "  'Random': 0.5245157870513031},\n",
              " {'CommonNeighbors': 0.15478582550811343,\n",
              "  'AdamicAdar': 0.18966353317942145,\n",
              "  'Jaccard': 0.5518421923906819,\n",
              "  'SimRank_03': 0.4074138643925478,\n",
              "  'SimRank_05': 0.4000182748912516,\n",
              "  'SimRank_07': 0.3802118685654221,\n",
              "  'Random': 0.001220311253044093})"
            ]
          },
          "metadata": {},
          "execution_count": 70
        }
      ]
    },
    {
      "cell_type": "code",
      "source": [
        "plt.figure(figsize=(8,5))\n",
        "plt.plot(cn_evaluation.fallout(), cn_evaluation.recall(), label=\"Common Neighbors \" \"(area = \" + str(evaluations_dict_AUC[\"CommonNeighbors\"])[:5] + \")\")\n",
        "plt.plot(aa_evaluation.fallout(), aa_evaluation.recall(), label=\"AdamicAdar \" \"(area = \" + str(evaluations_dict_AUC[\"AdamicAdar\"])[:5] + \")\")\n",
        "plt.plot(jc_evaluation.fallout(), jc_evaluation.recall(), label=\"Jaccard \" \"(area = \" + str(evaluations_dict_AUC[\"Jaccard\"])[:5] + \")\")\n",
        "\n",
        "\n",
        "plt.xlabel('FPR', fontsize=10)\n",
        "plt.ylabel('TPR', fontsize = 10)\n",
        "plt.tick_params(axis='both', which='major', labelsize=10)\n",
        "plt.legend(loc = \"lower right\")\n",
        "plt.show()\n"
      ],
      "metadata": {
        "colab": {
          "base_uri": "https://localhost:8080/",
          "height": 467
        },
        "id": "K2s7T63yf21u",
        "outputId": "3a0a7fe1-703a-4d08-cb7e-08c0aa1b0f03"
      },
      "execution_count": null,
      "outputs": [
        {
          "output_type": "display_data",
          "data": {
            "text/plain": [
              "<Figure size 800x500 with 1 Axes>"
            ],
            "image/png": "[encoded data removed]"
          },
          "metadata": {}
        }
      ]
    },
    {
      "cell_type": "code",
      "source": [
        "plt.figure(figsize=(8,5))\n",
        "\n",
        "plt.plot(cn_evaluation.recall(), cn_evaluation.precision(), label = \"Common Neighbor \" \"(area = \" + str(evaluations_dict_AUC_PR[\"CommonNeighbors\"])[:5] + \")\")\n",
        "plt.plot(aa_evaluation.recall(), aa_evaluation.precision(), label = \"AdamicAdar \" \"(area = \" + str(evaluations_dict_AUC_PR[\"AdamicAdar\"])[:5] + \")\")\n",
        "plt.plot(jc_evaluation.recall(), jc_evaluation.precision(), label = \"Jaccard \" \"(area = \" + str(evaluations_dict_AUC_PR[\"Jaccard\"])[:5] + \")\")\n",
        "\n",
        "\n",
        "plt.xlabel('Recall', fontsize=10)\n",
        "plt.ylabel('Precision', fontsize = 10)\n",
        "plt.tick_params(axis='both', which='major', labelsize=10)\n",
        "plt.legend(loc = \"lower right\")\n",
        "plt.show()"
      ],
      "metadata": {
        "colab": {
          "base_uri": "https://localhost:8080/",
          "height": 465
        },
        "id": "71Y2La7XfIJb",
        "outputId": "28bf461b-4e62-4945-9420-e7e7ad7c5913"
      },
      "execution_count": null,
      "outputs": [
        {
          "output_type": "display_data",
          "data": {
            "text/plain": [
              "<Figure size 800x500 with 1 Axes>"
            ],
            "image/png": "[encoded data removed]"
          },
          "metadata": {}
        }
      ]
    },
    {
      "cell_type": "code",
      "source": [
        "plt.figure(figsize=(8,5))\n",
        "plt.plot(simrank_evaluation_03.fallout(), simrank_evaluation_03.recall(), label=\"SimRank_03 \" \"(area = \" + str(evaluations_dict_AUC[\"SimRank_03\"])[:5] + \")\")\n",
        "plt.plot(simrank_evaluation_05.fallout(), simrank_evaluation_05.recall(), label=\"SimRank_05 \" \"(area = \" + str(evaluations_dict_AUC[\"SimRank_05\"])[:5] + \")\")\n",
        "plt.plot(simrank_evaluation_07.fallout(), simrank_evaluation_07.recall(), label=\"SimRank_07 \" \"(area = \" + str(evaluations_dict_AUC[\"SimRank_07\"])[:5] + \")\")\n",
        "plt.plot(rn_evaluation.fallout(), rn_evaluation.recall(), label=\"Random \" \"(area = \" + str(evaluations_dict_AUC[\"Random\"])[:5] + \")\")\n",
        "\n",
        "\n",
        "\n",
        "plt.xlabel('FPR', fontsize=10)\n",
        "plt.ylabel('TPR', fontsize = 10)\n",
        "plt.tick_params(axis='both', which='major', labelsize=10)\n",
        "plt.legend(loc = \"lower right\")\n",
        "plt.show()\n"
      ],
      "metadata": {
        "colab": {
          "base_uri": "https://localhost:8080/",
          "height": 465
        },
        "id": "1x5fYtzCfILS",
        "outputId": "e64fe755-9158-4dea-9010-89f9a1ba7c3c"
      },
      "execution_count": null,
      "outputs": [
        {
          "output_type": "display_data",
          "data": {
            "text/plain": [
              "<Figure size 800x500 with 1 Axes>"
            ],
            "image/png": "[encoded data removed]"
          },
          "metadata": {}
        }
      ]
    },
    {
      "cell_type": "code",
      "source": [
        "plt.figure(figsize=(8,5))\n",
        "\n",
        "plt.plot(simrank_evaluation_03.recall(), simrank_evaluation_03.precision(), label = \"SimRank_03 \" \"(area = \" + str(evaluations_dict_AUC_PR[\"SimRank_03\"])[:5] + \")\")\n",
        "plt.plot(simrank_evaluation_05.recall(), simrank_evaluation_05.precision(), label = \"SimRank_05 \" \"(area = \" + str(evaluations_dict_AUC_PR[\"SimRank_05\"])[:5] + \")\")\n",
        "plt.plot(simrank_evaluation_07.recall(), simrank_evaluation_07.precision(), label = \"SimRank_07 \" \"(area = \" + str(evaluations_dict_AUC_PR[\"SimRank_07\"])[:5] + \")\")\n",
        "\n",
        "plt.xlabel('Recall', fontsize=10)\n",
        "plt.ylabel('Precision', fontsize = 10)\n",
        "plt.tick_params(axis='both', which='major', labelsize=10)\n",
        "plt.legend(loc = \"lower right\")\n",
        "plt.show()"
      ],
      "metadata": {
        "colab": {
          "base_uri": "https://localhost:8080/",
          "height": 465
        },
        "id": "ktPtIQPBfINW",
        "outputId": "16fb1bcd-62a0-470b-90ff-d4b772b09750"
      },
      "execution_count": null,
      "outputs": [
        {
          "output_type": "display_data",
          "data": {
            "text/plain": [
              "<Figure size 800x500 with 1 Axes>"
            ],
            "image/png": "[encoded data removed]"
          },
          "metadata": {}
        }
      ]
    },
    {
      "cell_type": "code",
      "source": [
        "#check interesections for top 250 results\n",
        "\n",
        "results_dict = {'CommonNeighbours' : cn_results.top(250), 'AdamicAdar ' : aa_results.top(250),\n",
        "                'Jaccard ' : jc_results.top(250), 'SimRank_03' :simrank_results_03.top(250),\n",
        "                'SimRank_05' : simrank_results_05.top(250), 'SimRank_07' : simrank_results_07.top(250),\n",
        "                'Random' : rnd_results.top(250)}\n",
        "\n",
        "results_intersect = {}\n",
        "\n",
        "results_intersect_counts = {}\n",
        "\n",
        "for method, result in results_dict.items():\n",
        "\n",
        "  for method_, result_  in results_dict.items():\n",
        "\n",
        "    curr_intersection = set(result) & set(result_)\n",
        "    results_intersect[method + ' WITH ' + method_] = tuple(curr_intersection)\n",
        "    results_intersect_counts[method + ' WITH ' + method_] = len(curr_intersection)\n",
        "\n"
      ],
      "metadata": {
        "id": "8C8X3dRc973B"
      },
      "execution_count": null,
      "outputs": []
    },
    {
      "cell_type": "code",
      "source": [
        "results_intersect_counts"
      ],
      "metadata": {
        "colab": {
          "base_uri": "https://localhost:8080/"
        },
        "id": "HAdxCDP3975S",
        "outputId": "d5ad06d3-718c-4d13-a204-311ed7905a85"
      },
      "execution_count": null,
      "outputs": [
        {
          "output_type": "execute_result",
          "data": {
            "text/plain": [
              "{'CommonNeighbours WITH CommonNeighbours': 250,\n",
              " 'CommonNeighbours WITH AdamicAdar ': 205,\n",
              " 'CommonNeighbours WITH Jaccard ': 59,\n",
              " 'CommonNeighbours WITH SimRank_03': 0,\n",
              " 'CommonNeighbours WITH SimRank_05': 0,\n",
              " 'CommonNeighbours WITH SimRank_07': 0,\n",
              " 'CommonNeighbours WITH Random': 0,\n",
              " 'AdamicAdar  WITH CommonNeighbours': 205,\n",
              " 'AdamicAdar  WITH AdamicAdar ': 250,\n",
              " 'AdamicAdar  WITH Jaccard ': 93,\n",
              " 'AdamicAdar  WITH SimRank_03': 4,\n",
              " 'AdamicAdar  WITH SimRank_05': 7,\n",
              " 'AdamicAdar  WITH SimRank_07': 7,\n",
              " 'AdamicAdar  WITH Random': 0,\n",
              " 'Jaccard  WITH CommonNeighbours': 59,\n",
              " 'Jaccard  WITH AdamicAdar ': 93,\n",
              " 'Jaccard  WITH Jaccard ': 250,\n",
              " 'Jaccard  WITH SimRank_03': 127,\n",
              " 'Jaccard  WITH SimRank_05': 125,\n",
              " 'Jaccard  WITH SimRank_07': 130,\n",
              " 'Jaccard  WITH Random': 0,\n",
              " 'SimRank_03 WITH CommonNeighbours': 0,\n",
              " 'SimRank_03 WITH AdamicAdar ': 4,\n",
              " 'SimRank_03 WITH Jaccard ': 127,\n",
              " 'SimRank_03 WITH SimRank_03': 250,\n",
              " 'SimRank_03 WITH SimRank_05': 241,\n",
              " 'SimRank_03 WITH SimRank_07': 231,\n",
              " 'SimRank_03 WITH Random': 0,\n",
              " 'SimRank_05 WITH CommonNeighbours': 0,\n",
              " 'SimRank_05 WITH AdamicAdar ': 7,\n",
              " 'SimRank_05 WITH Jaccard ': 125,\n",
              " 'SimRank_05 WITH SimRank_03': 241,\n",
              " 'SimRank_05 WITH SimRank_05': 250,\n",
              " 'SimRank_05 WITH SimRank_07': 240,\n",
              " 'SimRank_05 WITH Random': 0,\n",
              " 'SimRank_07 WITH CommonNeighbours': 0,\n",
              " 'SimRank_07 WITH AdamicAdar ': 7,\n",
              " 'SimRank_07 WITH Jaccard ': 130,\n",
              " 'SimRank_07 WITH SimRank_03': 231,\n",
              " 'SimRank_07 WITH SimRank_05': 240,\n",
              " 'SimRank_07 WITH SimRank_07': 250,\n",
              " 'SimRank_07 WITH Random': 0,\n",
              " 'Random WITH CommonNeighbours': 0,\n",
              " 'Random WITH AdamicAdar ': 0,\n",
              " 'Random WITH Jaccard ': 0,\n",
              " 'Random WITH SimRank_03': 0,\n",
              " 'Random WITH SimRank_05': 0,\n",
              " 'Random WITH SimRank_07': 0,\n",
              " 'Random WITH Random': 250}"
            ]
          },
          "metadata": {},
          "execution_count": 63
        }
      ]
    },
    {
      "cell_type": "markdown",
      "metadata": {
        "id": "wqpL-Sfmycje"
      },
      "source": [
        "### Supervised Link Prediction"
      ]
    },
    {
      "cell_type": "code",
      "execution_count": null,
      "metadata": {
        "colab": {
          "base_uri": "https://localhost:8080/"
        },
        "id": "2rus50ayJZ1d",
        "outputId": "60606050-5b56-4e9e-e622-d6f75b370356"
      },
      "outputs": [
        {
          "output_type": "execute_result",
          "data": {
            "text/plain": [
              "<networkx.classes.graph.Graph at 0x79347ff2bf40>"
            ]
          },
          "metadata": {},
          "execution_count": 75
        }
      ],
      "source": [
        "G"
      ]
    },
    {
      "cell_type": "code",
      "execution_count": null,
      "metadata": {
        "id": "RDzl4M3iyejV"
      },
      "outputs": [],
      "source": [
        "edge_splitter_test  = EdgeSplitter(G)"
      ]
    },
    {
      "cell_type": "code",
      "execution_count": null,
      "metadata": {
        "colab": {
          "base_uri": "https://localhost:8080/"
        },
        "id": "HLT9F4fVyfOF",
        "outputId": "ab3c9aa3-a5c5-4401-b43a-d7b5e4bf0f55"
      },
      "outputs": [
        {
          "output_type": "stream",
          "name": "stdout",
          "text": [
            "** Sampled 37371 positive and 37371 negative edges. **\n"
          ]
        }
      ],
      "source": [
        "#generate graph_test\n",
        "graph_test, examples_test, labels_test = edge_splitter_test.train_test_split(\n",
        "    p=0.1, method=\"global\"\n",
        ")"
      ]
    },
    {
      "cell_type": "code",
      "execution_count": null,
      "metadata": {
        "colab": {
          "base_uri": "https://localhost:8080/"
        },
        "id": "iIDJonwjyfQL",
        "outputId": "ccb26127-3cb5-4c8c-a18e-e25a572d01dc"
      },
      "outputs": [
        {
          "output_type": "stream",
          "name": "stdout",
          "text": [
            "** Sampled 33634 positive and 33634 negative edges. **\n"
          ]
        }
      ],
      "source": [
        "#generate graph_train\n",
        "\n",
        "edge_splitter_train = EdgeSplitter(graph_test, G)\n",
        "graph_train, examples, labels = edge_splitter_train.train_test_split(\n",
        "    p=0.1, method=\"global\"\n",
        ")\n",
        "(\n",
        "    examples_train,\n",
        "    examples_model_selection,\n",
        "    labels_train,\n",
        "    labels_model_selection,\n",
        ") = train_test_split(examples, labels, train_size=0.75, test_size=0.25)"
      ]
    },
    {
      "cell_type": "code",
      "execution_count": null,
      "metadata": {
        "colab": {
          "base_uri": "https://localhost:8080/",
          "height": 175
        },
        "id": "sJOh4BueDLrf",
        "outputId": "8d3e99e9-c071-4f89-a93f-64dca4f55aa4"
      },
      "outputs": [
        {
          "output_type": "execute_result",
          "data": {
            "text/plain": [
              "                 Number of Examples  Hidden from Picked from  \\\n",
              "Split                                                          \n",
              "Training Set                  50451  Train Graph  Test Graph   \n",
              "Model Selection               16817  Train Graph  Test Graph   \n",
              "Test set                      74742   Test Graph  Full Graph   \n",
              "\n",
              "                                                   Use  \n",
              "Split                                                   \n",
              "Training Set                 Train the Link Classifier  \n",
              "Model Selection  Select the best Link Classifier model  \n",
              "Test set             Evaluate the best Link Classifier  "
            ],
            "text/html": [
              "\n",
              "\n",
              "  <div id=\"df-876d0a24-89e1-4ad9-bb79-641be3fc4675\">\n",
              "    <div class=\"colab-df-container\">\n",
              "      <div>\n",
              "<style scoped>\n",
              "    .dataframe tbody tr th:only-of-type {\n",
              "        vertical-align: middle;\n",
              "    }\n",
              "\n",
              "    .dataframe tbody tr th {\n",
              "        vertical-align: top;\n",
              "    }\n",
              "\n",
              "    .dataframe thead th {\n",
              "        text-align: right;\n",
              "    }\n",
              "</style>\n",
              "<table border=\"1\" class=\"dataframe\">\n",
              "  <thead>\n",
              "    <tr style=\"text-align: right;\">\n",
              "      <th></th>\n",
              "      <th>Number of Examples</th>\n",
              "      <th>Hidden from</th>\n",
              "      <th>Picked from</th>\n",
              "      <th>Use</th>\n",
              "    </tr>\n",
              "    <tr>\n",
              "      <th>Split</th>\n",
              "      <th></th>\n",
              "      <th></th>\n",
              "      <th></th>\n",
              "      <th></th>\n",
              "    </tr>\n",
              "  </thead>\n",
              "  <tbody>\n",
              "    <tr>\n",
              "      <th>Training Set</th>\n",
              "      <td>50451</td>\n",
              "      <td>Train Graph</td>\n",
              "      <td>Test Graph</td>\n",
              "      <td>Train the Link Classifier</td>\n",
              "    </tr>\n",
              "    <tr>\n",
              "      <th>Model Selection</th>\n",
              "      <td>16817</td>\n",
              "      <td>Train Graph</td>\n",
              "      <td>Test Graph</td>\n",
              "      <td>Select the best Link Classifier model</td>\n",
              "    </tr>\n",
              "    <tr>\n",
              "      <th>Test set</th>\n",
              "      <td>74742</td>\n",
              "      <td>Test Graph</td>\n",
              "      <td>Full Graph</td>\n",
              "      <td>Evaluate the best Link Classifier</td>\n",
              "    </tr>\n",
              "  </tbody>\n",
              "</table>\n",
              "</div>\n",
              "      <button class=\"colab-df-convert\" onclick=\"convertToInteractive('df-876d0a24-89e1-4ad9-bb79-641be3fc4675')\"\n",
              "              title=\"Convert this dataframe to an interactive table.\"\n",
              "              style=\"display:none;\">\n",
              "\n",
              "  <svg xmlns=\"http://www.w3.org/2000/svg\" height=\"24px\"viewBox=\"0 0 24 24\"\n",
              "       width=\"24px\">\n",
              "    <path d=\"M0 0h24v24H0V0z\" fill=\"none\"/>\n",
              "    <path d=\"M18.56 5.44l.94 2.06.94-2.06 2.06-.94-2.06-.94-.94-2.06-.94 2.06-2.06.94zm-11 1L8.5 8.5l.94-2.06 2.06-.94-2.06-.94L8.5 2.5l-.94 2.06-2.06.94zm10 10l.94 2.06.94-2.06 2.06-.94-2.06-.94-.94-2.06-.94 2.06-2.06.94z\"/><path d=\"M17.41 7.96l-1.37-1.37c-.4-.4-.92-.59-1.43-.59-.52 0-1.04.2-1.43.59L10.3 9.45l-7.72 7.72c-.78.78-.78 2.05 0 2.83L4 21.41c.39.39.9.59 1.41.59.51 0 1.02-.2 1.41-.59l7.78-7.78 2.81-2.81c.8-.78.8-2.07 0-2.86zM5.41 20L4 18.59l7.72-7.72 1.47 1.35L5.41 20z\"/>\n",
              "  </svg>\n",
              "      </button>\n",
              "\n",
              "\n",
              "\n",
              "    <div id=\"df-77380c96-0fdf-4228-bbd0-0aa03121949a\">\n",
              "      <button class=\"colab-df-quickchart\" onclick=\"quickchart('df-77380c96-0fdf-4228-bbd0-0aa03121949a')\"\n",
              "              title=\"Suggest charts.\"\n",
              "              style=\"display:none;\">\n",
              "\n",
              "<svg xmlns=\"http://www.w3.org/2000/svg\" height=\"24px\"viewBox=\"0 0 24 24\"\n",
              "     width=\"24px\">\n",
              "    <g>\n",
              "        <path d=\"M19 3H5c-1.1 0-2 .9-2 2v14c0 1.1.9 2 2 2h14c1.1 0 2-.9 2-2V5c0-1.1-.9-2-2-2zM9 17H7v-7h2v7zm4 0h-2V7h2v10zm4 0h-2v-4h2v4z\"/>\n",
              "    </g>\n",
              "</svg>\n",
              "      </button>\n",
              "    </div>\n",
              "\n",
              "<style>\n",
              "  .colab-df-quickchart {\n",
              "    background-color: #E8F0FE;\n",
              "    border: none;\n",
              "    border-radius: 50%;\n",
              "    cursor: pointer;\n",
              "    display: none;\n",
              "    fill: #1967D2;\n",
              "    height: 32px;\n",
              "    padding: 0 0 0 0;\n",
              "    width: 32px;\n",
              "  }\n",
              "\n",
              "  .colab-df-quickchart:hover {\n",
              "    background-color: #E2EBFA;\n",
              "    box-shadow: 0px 1px 2px rgba(60, 64, 67, 0.3), 0px 1px 3px 1px rgba(60, 64, 67, 0.15);\n",
              "    fill: #174EA6;\n",
              "  }\n",
              "\n",
              "  [theme=dark] .colab-df-quickchart {\n",
              "    background-color: #3B4455;\n",
              "    fill: #D2E3FC;\n",
              "  }\n",
              "\n",
              "  [theme=dark] .colab-df-quickchart:hover {\n",
              "    background-color: #434B5C;\n",
              "    box-shadow: 0px 1px 3px 1px rgba(0, 0, 0, 0.15);\n",
              "    filter: drop-shadow(0px 1px 2px rgba(0, 0, 0, 0.3));\n",
              "    fill: #FFFFFF;\n",
              "  }\n",
              "</style>\n",
              "\n",
              "    <script>\n",
              "      async function quickchart(key) {\n",
              "        const containerElement = document.querySelector('#' + key);\n",
              "        const charts = await google.colab.kernel.invokeFunction(\n",
              "            'suggestCharts', [key], {});\n",
              "      }\n",
              "    </script>\n",
              "\n",
              "      <script>\n",
              "\n",
              "function displayQuickchartButton(domScope) {\n",
              "  let quickchartButtonEl =\n",
              "    domScope.querySelector('#df-77380c96-0fdf-4228-bbd0-0aa03121949a button.colab-df-quickchart');\n",
              "  quickchartButtonEl.style.display =\n",
              "    google.colab.kernel.accessAllowed ? 'block' : 'none';\n",
              "}\n",
              "\n",
              "        displayQuickchartButton(document);\n",
              "      </script>\n",
              "      <style>\n",
              "    .colab-df-container {\n",
              "      display:flex;\n",
              "      flex-wrap:wrap;\n",
              "      gap: 12px;\n",
              "    }\n",
              "\n",
              "    .colab-df-convert {\n",
              "      background-color: #E8F0FE;\n",
              "      border: none;\n",
              "      border-radius: 50%;\n",
              "      cursor: pointer;\n",
              "      display: none;\n",
              "      fill: #1967D2;\n",
              "      height: 32px;\n",
              "      padding: 0 0 0 0;\n",
              "      width: 32px;\n",
              "    }\n",
              "\n",
              "    .colab-df-convert:hover {\n",
              "      background-color: #E2EBFA;\n",
              "      box-shadow: 0px 1px 2px rgba(60, 64, 67, 0.3), 0px 1px 3px 1px rgba(60, 64, 67, 0.15);\n",
              "      fill: #174EA6;\n",
              "    }\n",
              "\n",
              "    [theme=dark] .colab-df-convert {\n",
              "      background-color: #3B4455;\n",
              "      fill: #D2E3FC;\n",
              "    }\n",
              "\n",
              "    [theme=dark] .colab-df-convert:hover {\n",
              "      background-color: #434B5C;\n",
              "      box-shadow: 0px 1px 3px 1px rgba(0, 0, 0, 0.15);\n",
              "      filter: drop-shadow(0px 1px 2px rgba(0, 0, 0, 0.3));\n",
              "      fill: #FFFFFF;\n",
              "    }\n",
              "  </style>\n",
              "\n",
              "      <script>\n",
              "        const buttonEl =\n",
              "          document.querySelector('#df-876d0a24-89e1-4ad9-bb79-641be3fc4675 button.colab-df-convert');\n",
              "        buttonEl.style.display =\n",
              "          google.colab.kernel.accessAllowed ? 'block' : 'none';\n",
              "\n",
              "        async function convertToInteractive(key) {\n",
              "          const element = document.querySelector('#df-876d0a24-89e1-4ad9-bb79-641be3fc4675');\n",
              "          const dataTable =\n",
              "            await google.colab.kernel.invokeFunction('convertToInteractive',\n",
              "                                                     [key], {});\n",
              "          if (!dataTable) return;\n",
              "\n",
              "          const docLinkHtml = 'Like what you see? Visit the ' +\n",
              "            '<a target=\"_blank\" href=https://colab.research.google.com/notebooks/data_table.ipynb>data table notebook</a>'\n",
              "            + ' to learn more about interactive tables.';\n",
              "          element.innerHTML = '';\n",
              "          dataTable['output_type'] = 'display_data';\n",
              "          await google.colab.output.renderOutput(dataTable, element);\n",
              "          const docLink = document.createElement('div');\n",
              "          docLink.innerHTML = docLinkHtml;\n",
              "          element.appendChild(docLink);\n",
              "        }\n",
              "      </script>\n",
              "    </div>\n",
              "  </div>\n"
            ]
          },
          "metadata": {},
          "execution_count": 80
        }
      ],
      "source": [
        "pd.DataFrame(\n",
        "    [\n",
        "        (\n",
        "            \"Training Set\",\n",
        "            len(examples_train),\n",
        "            \"Train Graph\",\n",
        "            \"Test Graph\",\n",
        "            \"Train the Link Classifier\",\n",
        "        ),\n",
        "        (\n",
        "            \"Model Selection\",\n",
        "            len(examples_model_selection),\n",
        "            \"Train Graph\",\n",
        "            \"Test Graph\",\n",
        "            \"Select the best Link Classifier model\",\n",
        "        ),\n",
        "        (\n",
        "            \"Test set\",\n",
        "            len(examples_test),\n",
        "            \"Test Graph\",\n",
        "            \"Full Graph\",\n",
        "            \"Evaluate the best Link Classifier\",\n",
        "        ),\n",
        "    ],\n",
        "    columns=(\"Split\", \"Number of Examples\", \"Hidden from\", \"Picked from\", \"Use\"),\n",
        ").set_index(\"Split\")"
      ]
    },
    {
      "cell_type": "code",
      "execution_count": null,
      "metadata": {
        "id": "r0FY9_ZP1moy"
      },
      "outputs": [],
      "source": [
        "#import node2vec and binary operators on node emebeddings\n",
        "from node2vec import Node2Vec\n",
        "from node2vec.edges import AverageEmbedder, HadamardEmbedder, WeightedL1Embedder, WeightedL2Embedder"
      ]
    },
    {
      "cell_type": "code",
      "execution_count": null,
      "metadata": {
        "colab": {
          "base_uri": "https://localhost:8080/",
          "height": 67,
          "referenced_widgets": [
            "d2d17cddaaba4fe4a983c6d2ba7e8182",
            "f3a0d362dd8a482e9b296ae43444831d",
            "0fd48db2b90044c08d1efe71665566e7",
            "5a1657d0ec1e459e98b65ae31e3d7f4c",
            "05a854b347354a78aab0a7dea1552ab4",
            "a5d9432c19ed43449c38df1526e80e9e",
            "51acd2558deb41c3be0c6d54e84ebb2e",
            "f76a86f9b1d2402aaa550af170c236d3",
            "afeab3a71c0c42029fedaf74c167eac5",
            "0171d007a6034faf8d9144e1dc08b82b",
            "0767762a4365400bacf45a395fcd6f12"
          ]
        },
        "id": "WWylG5E_Xslw",
        "outputId": "cd69b49b-31ad-4929-9e86-2694cfbfb2f5"
      },
      "outputs": [
        {
          "output_type": "display_data",
          "data": {
            "text/plain": [
              "Computing transition probabilities:   0%|          | 0/63717 [00:00<?, ?it/s]"
            ],
            "application/vnd.jupyter.widget-view+json": {
              "version_major": 2,
              "version_minor": 0,
              "model_id": "d2d17cddaaba4fe4a983c6d2ba7e8182"
            }
          },
          "metadata": {}
        },
        {
          "output_type": "stream",
          "name": "stderr",
          "text": [
            "Generating walks (CPU: 1): 100%|██████████| 10/10 [08:36<00:00, 51.61s/it]\n"
          ]
        }
      ],
      "source": [
        "node2vec = Node2Vec(graph_train)"
      ]
    },
    {
      "cell_type": "code",
      "execution_count": null,
      "metadata": {
        "id": "j8XMr7XdZD7k"
      },
      "outputs": [],
      "source": [
        "model = node2vec.fit()"
      ]
    },
    {
      "cell_type": "code",
      "execution_count": null,
      "metadata": {
        "colab": {
          "base_uri": "https://localhost:8080/"
        },
        "id": "KskmlZiFnjli",
        "outputId": "c3d14a19-4c52-4088-9fb0-eaded11a0bb4"
      },
      "outputs": [
        {
          "output_type": "execute_result",
          "data": {
            "text/plain": [
              "<gensim.models.word2vec.Word2Vec at 0x7933cdd942e0>"
            ]
          },
          "metadata": {},
          "execution_count": 84
        }
      ],
      "source": [
        "model"
      ]
    },
    {
      "cell_type": "code",
      "execution_count": null,
      "metadata": {
        "id": "0c_2vIqspdj4"
      },
      "outputs": [],
      "source": [
        "keyed_vectors=model.wv"
      ]
    },
    {
      "cell_type": "code",
      "execution_count": null,
      "metadata": {
        "id": "mCAK0TkTpdmF"
      },
      "outputs": [],
      "source": [
        "hadamard_embeds = HadamardEmbedder(keyed_vectors)\n",
        "avg_embeds = AverageEmbedder(keyed_vectors)\n",
        "L1_embeds = WeightedL1Embedder(keyed_vectors)\n",
        "L2_embeds = WeightedL2Embedder(keyed_vectors)"
      ]
    },
    {
      "cell_type": "code",
      "execution_count": null,
      "metadata": {
        "id": "XYtyoPT1pdoJ"
      },
      "outputs": [],
      "source": [
        "train_embeddings_hadamard = [hadamard_embeds[str(x[0]),str(x[1])] for x in examples_train]\n",
        "test_embeddings_hadamard = [hadamard_embeds[str(x[0]),str(x[1])] for x in examples_test]"
      ]
    },
    {
      "cell_type": "code",
      "execution_count": null,
      "metadata": {
        "id": "7Miw_thvsAnE"
      },
      "outputs": [],
      "source": [
        "train_embeddings_avg = [avg_embeds[str(x[0]),str(x[1])] for x in examples_train]\n",
        "test_embeddings_avg = [avg_embeds[str(x[0]),str(x[1])] for x in examples_test]"
      ]
    },
    {
      "cell_type": "code",
      "execution_count": null,
      "metadata": {
        "id": "xBRfuHxmpdsb"
      },
      "outputs": [],
      "source": [
        "train_embeddings_l1 = [L1_embeds[str(x[0]),str(x[1])] for x in examples_train]\n",
        "test_embeddings_l1 = [L1_embeds[str(x[0]),str(x[1])] for x in examples_test]"
      ]
    },
    {
      "cell_type": "code",
      "execution_count": null,
      "metadata": {
        "id": "ZpCij40Apduq"
      },
      "outputs": [],
      "source": [
        "train_embeddings_l2 = [L2_embeds[str(x[0]),str(x[1])] for x in examples_train]\n",
        "test_embeddings_l2 = [L2_embeds[str(x[0]),str(x[1])] for x in examples_test]"
      ]
    },
    {
      "cell_type": "code",
      "execution_count": null,
      "metadata": {
        "id": "btGjyB8DXsu5"
      },
      "outputs": [],
      "source": [
        "skf = StratifiedKFold(shuffle=True, random_state = 42)"
      ]
    },
    {
      "cell_type": "code",
      "execution_count": null,
      "metadata": {
        "id": "9KhyXi5qXsx_"
      },
      "outputs": [],
      "source": [
        "#define a function to perform gridsearch over a generic hyperparameter space\n",
        "\n",
        "def perform_gridsearch(classifier, param_grid, cv, X_train, y_train, X_test, y_test, scoring = None):\n",
        "\n",
        "  clf = GridSearchCV(estimator = classifier, param_grid = param_grid, n_jobs = -1, cv = cv, scoring = scoring)\n",
        "  clf.fit(X_train, y_train)\n",
        "\n",
        "  best_model = clf.best_estimator_\n",
        "\n",
        "  predictions = best_model.predict(X_test)\n",
        "\n",
        "  print('Best configuration', clf.best_params_)\n",
        "  print('Best mean score for the validation', clf.best_score_)\n",
        "  print('Std for the best mean score across folds',clf.cv_results_['std_test_score'][clf.best_index_])\n",
        "\n",
        "  print('******************')\n",
        "\n",
        "  print('Classification report:')\n",
        "  print(classification_report(y_test, predictions, digits = 7))\n",
        "  print('Confusion matrix:')\n",
        "  cm = confusion_matrix(y_test, predictions)\n",
        "  print(cm)\n",
        "\n",
        "  print('******************')\n",
        "\n",
        "  y_score = best_model.predict_proba(X_test)\n",
        "\n",
        "  fpr, tpr, th = roc_curve(y_test, y_score[:,1])\n",
        "\n",
        "  roc_auc = auc(fpr, tpr)\n",
        "  print('ROC_AUC value: ', roc_auc)\n",
        "\n",
        "  print('******************')\n",
        "\n",
        "  print(clf.cv_results_['mean_test_score'])\n",
        "\n",
        "  return best_model, fpr, tpr\n"
      ]
    },
    {
      "cell_type": "code",
      "execution_count": null,
      "metadata": {
        "id": "Z-u2Z-JNXsz2"
      },
      "outputs": [],
      "source": [
        "parameters_logistic = {'penalty': ('none', 'l2', 'l1'), 'C':[1.0,0.1,0.001],\n",
        "                       'solver' : [ 'lbfgs','newton-cg','liblinear']}\n",
        "\n",
        "parameters_dt = {'min_samples_split': [2,4,6,8,10], 'min_samples_leaf':[1,2,3,5,8,10],\n",
        "                 'criterion': ['gini','entropy']}\n",
        "\n",
        "\n",
        "parameters_knn = {'n_neighbors': [3,5,7,9,11],\n",
        "                 'weights': ['uniform','distance']}\n"
      ]
    },
    {
      "cell_type": "markdown",
      "source": [
        "#### Logistic Regression"
      ],
      "metadata": {
        "id": "mJlWvR0CRMFg"
      }
    },
    {
      "cell_type": "code",
      "execution_count": null,
      "metadata": {
        "colab": {
          "base_uri": "https://localhost:8080/"
        },
        "id": "gjtTnscUyOjm",
        "outputId": "33fb86a2-5cd6-4b12-b740-f696b13819d1"
      },
      "outputs": [
        {
          "name": "stdout",
          "output_type": "stream",
          "text": [
            "Best configuration {'C': 0.001, 'penalty': 'l2', 'solver': 'lbfgs'}\n",
            "Best mean score for the validation 0.9689599667800028\n",
            "Std for the best mean score across folds 0.0013082540480924573\n",
            "******************\n",
            "Classification report:\n",
            "              precision    recall  f1-score   support\n",
            "\n",
            "           0  0.9485198 0.9919724 0.9697596     37371\n",
            "           1  0.9915870 0.9461615 0.9683418     37371\n",
            "\n",
            "    accuracy                      0.9690669     74742\n",
            "   macro avg  0.9700534 0.9690669 0.9690507     74742\n",
            "weighted avg  0.9700534 0.9690669 0.9690507     74742\n",
            "\n",
            "Confusion matrix:\n",
            "[[37071   300]\n",
            " [ 2012 35359]]\n",
            "******************\n",
            "ROC_AUC value:  0.9530030124245888\n",
            "******************\n",
            "[0.95722579 0.95722579        nan 0.95831596 0.95831596 0.95829614\n",
            "        nan        nan 0.9577015  0.95722579 0.95722579        nan\n",
            " 0.96198292 0.96198292 0.96190363        nan        nan 0.96087291\n",
            " 0.95722579 0.95722579        nan 0.96895997 0.96895997 0.96652198\n",
            "        nan        nan 0.75689279]\n"
          ]
        }
      ],
      "source": [
        "#HadamardEmbedder\n",
        "\n",
        "with warnings.catch_warnings():\n",
        "    warnings.simplefilter(\"ignore\")\n",
        "    perform_gridsearch(LogisticRegression(), parameters_logistic, skf, train_embeddings_hadamard, labels_train, test_embeddings_hadamard, labels_test)"
      ]
    },
    {
      "cell_type": "code",
      "execution_count": null,
      "metadata": {
        "colab": {
          "base_uri": "https://localhost:8080/"
        },
        "id": "Ab1dnDx8zQX_",
        "outputId": "466dddf7-3fcf-4c57-ede0-41b04c407e87"
      },
      "outputs": [
        {
          "name": "stdout",
          "output_type": "stream",
          "text": [
            "Best configuration {'C': 1.0, 'penalty': 'l2', 'solver': 'newton-cg'}\n",
            "Best mean score for the validation 0.6587975370609123\n",
            "Std for the best mean score across folds 0.003963252532211631\n",
            "******************\n",
            "Classification report:\n",
            "              precision    recall  f1-score   support\n",
            "\n",
            "           0  0.6967094 0.5880763 0.6378002     37371\n",
            "           1  0.6436409 0.7439994 0.6901910     37371\n",
            "\n",
            "    accuracy                      0.6660378     74742\n",
            "   macro avg  0.6701751 0.6660378 0.6639956     74742\n",
            "weighted avg  0.6701751 0.6660378 0.6639956     74742\n",
            "\n",
            "Confusion matrix:\n",
            "[[21977 15394]\n",
            " [ 9567 27804]]\n",
            "******************\n",
            "ROC_AUC value:  0.7199462072392571\n",
            "******************\n",
            "[0.65869843 0.65871826        nan 0.6587579  0.65879754 0.65816326\n",
            "        nan        nan 0.65842092 0.65869843 0.65871826        nan\n",
            " 0.65857949 0.65852003 0.65298993        nan        nan 0.65687487\n",
            " 0.65869843 0.65871826        nan 0.65298985 0.65308895 0.5846662\n",
            "        nan        nan 0.501219  ]\n"
          ]
        }
      ],
      "source": [
        "#AverageEmbedder\n",
        "\n",
        "with warnings.catch_warnings():\n",
        "    warnings.simplefilter(\"ignore\")\n",
        "    perform_gridsearch(LogisticRegression(), parameters_logistic, skf, train_embeddings_avg, labels_train, test_embeddings_avg, labels_test)\n"
      ]
    },
    {
      "cell_type": "code",
      "execution_count": null,
      "metadata": {
        "colab": {
          "base_uri": "https://localhost:8080/"
        },
        "id": "wTkyp6IizQaC",
        "outputId": "a781408c-0a2f-48d4-8e87-bdc2d3275f3c"
      },
      "outputs": [
        {
          "name": "stdout",
          "output_type": "stream",
          "text": [
            "Best configuration {'C': 0.001, 'penalty': 'l2', 'solver': 'lbfgs'}\n",
            "Best mean score for the validation 0.9442231000177866\n",
            "Std for the best mean score across folds 0.0014907267132531102\n",
            "******************\n",
            "Classification report:\n",
            "              precision    recall  f1-score   support\n",
            "\n",
            "           0  0.9225119 0.9713147 0.9462845     37371\n",
            "           1  0.9697124 0.9184127 0.9433656     37371\n",
            "\n",
            "    accuracy                      0.9448637     74742\n",
            "   macro avg  0.9461122 0.9448637 0.9448251     74742\n",
            "weighted avg  0.9461122 0.9448637 0.9448251     74742\n",
            "\n",
            "Confusion matrix:\n",
            "[[36299  1072]\n",
            " [ 3049 34322]]\n",
            "******************\n",
            "ROC_AUC value:  0.971080905245086\n",
            "******************\n",
            "[0.93702799 0.93702799        nan 0.93706763 0.93706763 0.93704781\n",
            "        nan        nan 0.93716674 0.93702799 0.93702799        nan\n",
            " 0.93764245 0.93764245 0.93805869        nan        nan 0.93791995\n",
            " 0.93702799 0.93702799        nan 0.9442231  0.9442231  0.92162693\n",
            "        nan        nan 0.9274742 ]\n"
          ]
        }
      ],
      "source": [
        "#WeightedL1Embedder\n",
        "\n",
        "with warnings.catch_warnings():\n",
        "    warnings.simplefilter(\"ignore\")\n",
        "    perform_gridsearch(LogisticRegression(), parameters_logistic, skf, train_embeddings_l1, labels_train, test_embeddings_l1, labels_test)\n"
      ]
    },
    {
      "cell_type": "code",
      "execution_count": null,
      "metadata": {
        "colab": {
          "base_uri": "https://localhost:8080/"
        },
        "id": "CwPLOai9zQcZ",
        "outputId": "014f89a3-4ce9-4e74-c8b1-d40110c0025d"
      },
      "outputs": [
        {
          "name": "stdout",
          "output_type": "stream",
          "text": [
            "Best configuration {'C': 0.001, 'penalty': 'l2', 'solver': 'lbfgs'}\n",
            "Best mean score for the validation 0.943152754925225\n",
            "Std for the best mean score across folds 0.0017311930042183553\n",
            "******************\n",
            "Classification report:\n",
            "              precision    recall  f1-score   support\n",
            "\n",
            "           0  0.9303308 0.9601295 0.9449953     37371\n",
            "           1  0.9588102 0.9280993 0.9432048     37371\n",
            "\n",
            "    accuracy                      0.9441144     74742\n",
            "   macro avg  0.9445705 0.9441144 0.9441001     74742\n",
            "weighted avg  0.9445705 0.9441144 0.9441001     74742\n",
            "\n",
            "Confusion matrix:\n",
            "[[35881  1490]\n",
            " [ 2687 34684]]\n",
            "******************\n",
            "ROC_AUC value:  0.9719188531216476\n",
            "******************\n",
            "[0.93502606 0.93502606        nan 0.93510535 0.93512517 0.93508553\n",
            "        nan        nan 0.93508553 0.93502606 0.93502606        nan\n",
            " 0.93564052 0.93566034 0.93573963        nan        nan 0.9358982\n",
            " 0.93502606 0.93502606        nan 0.94315275 0.94315275 0.94180492\n",
            "        nan        nan 0.93078431]\n"
          ]
        }
      ],
      "source": [
        "#WeightedL2Embedder\n",
        "\n",
        "with warnings.catch_warnings():\n",
        "    warnings.simplefilter(\"ignore\")\n",
        "    perform_gridsearch(LogisticRegression(), parameters_logistic, skf, train_embeddings_l2, labels_train, test_embeddings_l2, labels_test)\n"
      ]
    },
    {
      "cell_type": "markdown",
      "source": [
        "#### Decision Tree Classifier"
      ],
      "metadata": {
        "id": "aKLaUpHpROxZ"
      }
    },
    {
      "cell_type": "code",
      "execution_count": null,
      "metadata": {
        "colab": {
          "base_uri": "https://localhost:8080/"
        },
        "id": "tRzSBGZfzvzZ",
        "outputId": "c607bf0d-e493-446e-b482-d51852654d27"
      },
      "outputs": [
        {
          "name": "stdout",
          "output_type": "stream",
          "text": [
            "Best configuration {'criterion': 'gini', 'min_samples_leaf': 2, 'min_samples_split': 8}\n",
            "Best mean score for the validation 0.8857703323934555\n",
            "Std for the best mean score across folds 0.0020375728509441807\n",
            "******************\n",
            "Classification report:\n",
            "              precision    recall  f1-score   support\n",
            "\n",
            "           0  0.8831062 0.8913061 0.8871872     37371\n",
            "           1  0.8902874 0.8820208 0.8861348     37371\n",
            "\n",
            "    accuracy                      0.8866635     74742\n",
            "   macro avg  0.8866968 0.8866635 0.8866610     74742\n",
            "weighted avg  0.8866968 0.8866635 0.8866610     74742\n",
            "\n",
            "Confusion matrix:\n",
            "[[33309  4062]\n",
            " [ 4409 32962]]\n",
            "******************\n",
            "ROC_AUC value:  0.9014980900920343\n",
            "******************\n",
            "[0.8854136  0.88553247 0.88440268 0.88436305 0.8845415  0.88374852\n",
            " 0.8851162  0.88362964 0.88577033 0.88374862 0.8829359  0.88317379\n",
            " 0.88418462 0.88481891 0.88355039 0.88297555 0.88249988 0.88194487\n",
            " 0.8826188  0.88240075 0.87831763 0.87857535 0.87913033 0.87841674\n",
            " 0.87833749 0.87667241 0.87631565 0.87718781 0.87655352 0.87679136\n",
            " 0.877822   0.87796082 0.87909057 0.87823827 0.87702914 0.8787536\n",
            " 0.87833734 0.87796077 0.87764362 0.8778022  0.87748504 0.87738592\n",
            " 0.87766339 0.87756433 0.87693009 0.87528491 0.87522544 0.87504703\n",
            " 0.87562183 0.87558222 0.87288659 0.87118201 0.87179638 0.87179643\n",
            " 0.87203424 0.87114229 0.87139994 0.87132067 0.87106296 0.87092422]\n"
          ]
        }
      ],
      "source": [
        "#HadamardEmbedder\n",
        "\n",
        "with warnings.catch_warnings():\n",
        "    warnings.simplefilter(\"ignore\")\n",
        "    perform_gridsearch(DecisionTreeClassifier(), parameters_dt, skf, train_embeddings_hadamard, labels_train, test_embeddings_hadamard, labels_test)\n"
      ]
    },
    {
      "cell_type": "code",
      "execution_count": null,
      "metadata": {
        "colab": {
          "base_uri": "https://localhost:8080/"
        },
        "id": "dr85s05Zzvza",
        "outputId": "481d93e0-e562-4073-f959-db123beca44e"
      },
      "outputs": [
        {
          "name": "stdout",
          "output_type": "stream",
          "text": [
            "Best configuration {'criterion': 'entropy', 'min_samples_leaf': 1, 'min_samples_split': 2}\n",
            "Best mean score for the validation 0.8348695336265554\n",
            "Std for the best mean score across folds 0.002539621664613807\n",
            "******************\n",
            "Classification report:\n",
            "              precision    recall  f1-score   support\n",
            "\n",
            "           0  0.8538900 0.8328918 0.8432602     37371\n",
            "           1  0.8369026 0.8574831 0.8470678     37371\n",
            "\n",
            "    accuracy                      0.8451874     74742\n",
            "   macro avg  0.8453963 0.8451874 0.8451640     74742\n",
            "weighted avg  0.8453963 0.8451874 0.8451640     74742\n",
            "\n",
            "Confusion matrix:\n",
            "[[31126  6245]\n",
            " [ 5326 32045]]\n",
            "******************\n",
            "ROC_AUC value:  0.8451874448101468\n",
            "******************\n",
            "[0.81960718 0.8204     0.81825932 0.81857657 0.81679256 0.81528615\n",
            " 0.81693129 0.81659443 0.81699072 0.81637634 0.82101451 0.82053883\n",
            " 0.82067757 0.82071718 0.81982526 0.82152989 0.82141094 0.82147037\n",
            " 0.82123255 0.82125236 0.82039999 0.8214307  0.82180729 0.82028104\n",
            " 0.82073693 0.82012248 0.81944857 0.82000356 0.81917105 0.81996388\n",
            " 0.83486953 0.83389831 0.83346225 0.83330369 0.83308565 0.83144051\n",
            " 0.83253064 0.83144053 0.83128194 0.8303107  0.83302623 0.83306586\n",
            " 0.83391822 0.83334336 0.83340285 0.83201529 0.83211438 0.83286755\n",
            " 0.83211437 0.83217382 0.82834833 0.82838796 0.82745635 0.82743654\n",
            " 0.827714   0.8249986  0.82493913 0.82491928 0.8254941  0.82519678]\n"
          ]
        }
      ],
      "source": [
        "#AverageEmbedder\n",
        "\n",
        "with warnings.catch_warnings():\n",
        "    warnings.simplefilter(\"ignore\")\n",
        "    perform_gridsearch(DecisionTreeClassifier(), parameters_dt, skf, train_embeddings_avg, labels_train, test_embeddings_avg, labels_test)\n"
      ]
    },
    {
      "cell_type": "code",
      "execution_count": null,
      "metadata": {
        "colab": {
          "base_uri": "https://localhost:8080/"
        },
        "id": "k_eCAa1Zzvza",
        "outputId": "0db4425c-f3b1-4f36-8507-f427c8773fd5"
      },
      "outputs": [
        {
          "name": "stdout",
          "output_type": "stream",
          "text": [
            "Best configuration {'criterion': 'entropy', 'min_samples_leaf': 10, 'min_samples_split': 4}\n",
            "Best mean score for the validation 0.8660085196957439\n",
            "Std for the best mean score across folds 0.003308759244737846\n",
            "******************\n",
            "Classification report:\n",
            "              precision    recall  f1-score   support\n",
            "\n",
            "           0  0.8695826 0.8708624 0.8702221     37371\n",
            "           1  0.8706721 0.8693907 0.8700309     37371\n",
            "\n",
            "    accuracy                      0.8701266     74742\n",
            "   macro avg  0.8701274 0.8701266 0.8701265     74742\n",
            "weighted avg  0.8701274 0.8701266 0.8701265     74742\n",
            "\n",
            "Confusion matrix:\n",
            "[[32545  4826]\n",
            " [ 4881 32490]]\n",
            "******************\n",
            "ROC_AUC value:  0.9127740547603636\n",
            "******************\n",
            "[0.85086516 0.85161835 0.85229232 0.85213374 0.85528532 0.8587936\n",
            " 0.85657363 0.85811969 0.85909096 0.85891256 0.85373918 0.85449238\n",
            " 0.85385811 0.85613759 0.85863506 0.85821887 0.8590117  0.85734674\n",
            " 0.85932884 0.8595667  0.86434358 0.86382822 0.86364983 0.86372915\n",
            " 0.86359038 0.86404625 0.86448231 0.86438318 0.86460124 0.86396694\n",
            " 0.86150909 0.86085505 0.86277764 0.86081541 0.86065683 0.8644427\n",
            " 0.86456159 0.86416517 0.86236144 0.86285694 0.86170735 0.86168752\n",
            " 0.86210379 0.86271823 0.8629957  0.86202449 0.86246057 0.86265877\n",
            " 0.86313447 0.86349124 0.86489853 0.86505708 0.86404621 0.86442282\n",
            " 0.86428406 0.8654337  0.86600852 0.8657112  0.864958   0.86553282]\n"
          ]
        }
      ],
      "source": [
        "#WeightedL1Embedder\n",
        "\n",
        "with warnings.catch_warnings():\n",
        "    warnings.simplefilter(\"ignore\")\n",
        "    perform_gridsearch(DecisionTreeClassifier(), parameters_dt, skf, train_embeddings_l1, labels_train, test_embeddings_l1, labels_test)\n"
      ]
    },
    {
      "cell_type": "code",
      "execution_count": null,
      "metadata": {
        "colab": {
          "base_uri": "https://localhost:8080/"
        },
        "id": "2fHU3rTuzvza",
        "outputId": "7527e5b5-fb23-4d95-c939-32bb91b18184"
      },
      "outputs": [
        {
          "name": "stdout",
          "output_type": "stream",
          "text": [
            "Best configuration {'criterion': 'entropy', 'min_samples_leaf': 10, 'min_samples_split': 6}\n",
            "Best mean score for the validation 0.8654931854514404\n",
            "Std for the best mean score across folds 0.002373435875220154\n",
            "******************\n",
            "Classification report:\n",
            "              precision    recall  f1-score   support\n",
            "\n",
            "           0  0.8702070 0.8708357 0.8705212     37371\n",
            "           1  0.8707423 0.8701132 0.8704276     37371\n",
            "\n",
            "    accuracy                      0.8704744     74742\n",
            "   macro avg  0.8704746 0.8704744 0.8704744     74742\n",
            "weighted avg  0.8704746 0.8704744 0.8704744     74742\n",
            "\n",
            "Confusion matrix:\n",
            "[[32544  4827]\n",
            " [ 4854 32517]]\n",
            "******************\n",
            "ROC_AUC value:  0.9124432930785384\n",
            "******************\n",
            "[0.85064712 0.85153902 0.85183637 0.85352115 0.85358066 0.8582783\n",
            " 0.85752505 0.85833779 0.85875395 0.85815938 0.85344187 0.85451229\n",
            " 0.85326346 0.85643487 0.85718814 0.85871438 0.85695032 0.8577828\n",
            " 0.85716834 0.85770346 0.86335253 0.8639868  0.86345162 0.86327322\n",
            " 0.86388767 0.8633525  0.86339213 0.8639075  0.86366964 0.86479947\n",
            " 0.86139014 0.86067663 0.86093429 0.86121178 0.86107302 0.8643039\n",
            " 0.86392728 0.8632732  0.86333263 0.86228213 0.86200465 0.8618461\n",
            " 0.86194522 0.86321376 0.86261907 0.86196501 0.86250018 0.86291644\n",
            " 0.86277767 0.86206411 0.8647598  0.86454174 0.86448228 0.86418495\n",
            " 0.86483907 0.86519584 0.86517602 0.86549319 0.86440299 0.86507693]\n"
          ]
        }
      ],
      "source": [
        "#WeightedL2Embedder\n",
        "\n",
        "with warnings.catch_warnings():\n",
        "    warnings.simplefilter(\"ignore\")\n",
        "    perform_gridsearch(DecisionTreeClassifier(), parameters_dt, skf, train_embeddings_l2, labels_train, test_embeddings_l2, labels_test)\n"
      ]
    },
    {
      "cell_type": "markdown",
      "source": [
        "#### K-nearest neighbors"
      ],
      "metadata": {
        "id": "a-NPv8XiRXJt"
      }
    },
    {
      "cell_type": "code",
      "execution_count": null,
      "metadata": {
        "id": "gQTgcHhF0Uyk",
        "colab": {
          "base_uri": "https://localhost:8080/"
        },
        "outputId": "74091474-969f-4fab-c2d9-eba3ff1fb66a"
      },
      "outputs": [
        {
          "output_type": "stream",
          "name": "stdout",
          "text": [
            "Best configuration {'n_neighbors': 3, 'weights': 'distance'}\n",
            "Best mean score for the validation 0.9675328386803969\n",
            "Std for the best mean score across folds 0.0011122047694969227\n",
            "******************\n",
            "Classification report:\n",
            "              precision    recall  f1-score   support\n",
            "\n",
            "           0  0.9493615 0.9867812 0.9677098     37371\n",
            "           1  0.9862388 0.9473656 0.9664114     37371\n",
            "\n",
            "    accuracy                      0.9670734     74742\n",
            "   macro avg  0.9678002 0.9670734 0.9670606     74742\n",
            "weighted avg  0.9678002 0.9670734 0.9670606     74742\n",
            "\n",
            "Confusion matrix:\n",
            "[[36877   494]\n",
            " [ 1967 35404]]\n",
            "******************\n",
            "ROC_AUC value:  0.9711706043355876\n",
            "******************\n",
            "[0.96650214 0.96753284 0.96664088 0.96703731 0.96638321 0.96660124\n",
            " 0.96608589 0.96634356 0.96600661 0.96612554]\n"
          ]
        }
      ],
      "source": [
        "#HadamardEmbedder\n",
        "\n",
        "with warnings.catch_warnings():\n",
        "    warnings.simplefilter(\"ignore\")\n",
        "    perform_gridsearch(KNeighborsClassifier(), parameters_knn, skf, train_embeddings_hadamard, labels_train, test_embeddings_hadamard, labels_test)\n"
      ]
    },
    {
      "cell_type": "code",
      "execution_count": null,
      "metadata": {
        "id": "ZyvMBodm0Uyl",
        "colab": {
          "base_uri": "https://localhost:8080/"
        },
        "outputId": "fc87cae6-4553-4b28-dfb2-edcc26bea12f"
      },
      "outputs": [
        {
          "output_type": "stream",
          "name": "stdout",
          "text": [
            "Best configuration {'n_neighbors': 11, 'weights': 'distance'}\n",
            "Best mean score for the validation 0.9547085270323505\n",
            "Std for the best mean score across folds 0.002446219030175797\n",
            "******************\n",
            "Classification report:\n",
            "              precision    recall  f1-score   support\n",
            "\n",
            "           0  0.9560845 0.9565706 0.9563275     37371\n",
            "           1  0.9565485 0.9560622 0.9563053     37371\n",
            "\n",
            "    accuracy                      0.9563164     74742\n",
            "   macro avg  0.9563165 0.9563164 0.9563164     74742\n",
            "weighted avg  0.9563165 0.9563164 0.9563164     74742\n",
            "\n",
            "Confusion matrix:\n",
            "[[35748  1623]\n",
            " [ 1642 35729]]\n",
            "******************\n",
            "ROC_AUC value:  0.9813045547936228\n",
            "******************\n",
            "[0.92791026 0.92991219 0.94015977 0.94279598 0.94537275 0.9488811\n",
            " 0.94898021 0.95332103 0.95007038 0.95470853]\n"
          ]
        }
      ],
      "source": [
        "#AverageEmbedder\n",
        "\n",
        "with warnings.catch_warnings():\n",
        "    warnings.simplefilter(\"ignore\")\n",
        "    perform_gridsearch(KNeighborsClassifier(), parameters_knn, skf, train_embeddings_avg, labels_train, test_embeddings_avg, labels_test)\n"
      ]
    },
    {
      "cell_type": "code",
      "execution_count": null,
      "metadata": {
        "id": "Ws4oq1VB0Uyl",
        "colab": {
          "base_uri": "https://localhost:8080/"
        },
        "outputId": "f76c3bfb-efde-4f95-8903-58bb196099cc"
      },
      "outputs": [
        {
          "output_type": "stream",
          "name": "stdout",
          "text": [
            "Best configuration {'n_neighbors': 3, 'weights': 'distance'}\n",
            "Best mean score for the validation 0.8668609135558194\n",
            "Std for the best mean score across folds 0.0018152309065120388\n",
            "******************\n",
            "Classification report:\n",
            "              precision    recall  f1-score   support\n",
            "\n",
            "           0  0.9553427 0.7899708 0.8648221     37371\n",
            "           1  0.8209626 0.9630730 0.8863578     37371\n",
            "\n",
            "    accuracy                      0.8765219     74742\n",
            "   macro avg  0.8881526 0.8765219 0.8755899     74742\n",
            "weighted avg  0.8881526 0.8765219 0.8755899     74742\n",
            "\n",
            "Confusion matrix:\n",
            "[[29522  7849]\n",
            " [ 1380 35991]]\n",
            "******************\n",
            "ROC_AUC value:  0.9427971110848143\n",
            "******************\n",
            "[0.86509683 0.86686091 0.85827835 0.86063707 0.85106337 0.85369959\n",
            " 0.84311507 0.8463063  0.83701017 0.84065728]\n"
          ]
        }
      ],
      "source": [
        "#WeightedL1Embedder\n",
        "\n",
        "with warnings.catch_warnings():\n",
        "    warnings.simplefilter(\"ignore\")\n",
        "    perform_gridsearch(KNeighborsClassifier(), parameters_knn, skf, train_embeddings_l1, labels_train, test_embeddings_l1, labels_test)\n"
      ]
    },
    {
      "cell_type": "code",
      "execution_count": null,
      "metadata": {
        "id": "QTojSJzU0Uyl",
        "colab": {
          "base_uri": "https://localhost:8080/"
        },
        "outputId": "b55cb067-2e17-49ab-f4ae-396df4985609"
      },
      "outputs": [
        {
          "output_type": "stream",
          "name": "stdout",
          "text": [
            "Best configuration {'n_neighbors': 3, 'weights': 'distance'}\n",
            "Best mean score for the validation 0.8522130200900252\n",
            "Std for the best mean score across folds 0.0034711925764662295\n",
            "******************\n",
            "Classification report:\n",
            "              precision    recall  f1-score   support\n",
            "\n",
            "           0  0.9539599 0.7629178 0.8478099     37371\n",
            "           1  0.8024746 0.9631800 0.8755138     37371\n",
            "\n",
            "    accuracy                      0.8630489     74742\n",
            "   macro avg  0.8782173 0.8630489 0.8616619     74742\n",
            "weighted avg  0.8782173 0.8630489 0.8616619     74742\n",
            "\n",
            "Confusion matrix:\n",
            "[[28511  8860]\n",
            " [ 1376 35995]]\n",
            "******************\n",
            "ROC_AUC value:  0.9305878313645155\n",
            "******************\n",
            "[0.85058769 0.85221302 0.84012211 0.84236189 0.83066734 0.83399729\n",
            " 0.82244157 0.82642563 0.81449324 0.81915123]\n"
          ]
        }
      ],
      "source": [
        "#WeightedL2Embedder\n",
        "\n",
        "with warnings.catch_warnings():\n",
        "    warnings.simplefilter(\"ignore\")\n",
        "    perform_gridsearch(KNeighborsClassifier(), parameters_knn, skf, train_embeddings_l2, labels_train, test_embeddings_l2, labels_test)\n"
      ]
    },
    {
      "cell_type": "markdown",
      "source": [
        "####  Supervised methods ROC-CURVE visualization"
      ],
      "metadata": {
        "id": "zY8gzBgtL25s"
      }
    },
    {
      "cell_type": "code",
      "source": [
        "best_LR = {'C': 0.001, 'penalty': 'l2', 'solver': 'lbfgs'}\n",
        "best_KNN = {'n_neighbors': 3, 'weights': 'distance'}\n",
        "best_DT = {'criterion': 'gini', 'min_samples_leaf': 2, 'min_samples_split': 8}\n",
        "\n",
        "train_embeddings_hadamard, labels_train\n",
        "test_embeddings_hadamard, labels_test\n",
        "\n",
        "\n",
        "\n",
        "clf_LR = LogisticRegression(C = 0.001, penalty = 'l2', solver = 'lbfgs').fit(train_embeddings_hadamard, labels_train)\n",
        "clf_DT = DecisionTreeClassifier(criterion = 'gini', min_samples_leaf = 2, min_samples_split = 8).fit(train_embeddings_hadamard, labels_train)\n",
        "clf_KNN = KNeighborsClassifier(n_neighbors=3, weights = 'distance').fit(train_embeddings_hadamard, labels_train)\n",
        "\n",
        "predictions_LR = clf_LR.predict(test_embeddings_hadamard)\n",
        "predictions_DT = clf_DT.predict(test_embeddings_hadamard)\n",
        "predictions_KNN = clf_KNN.predict(test_embeddings_hadamard)"
      ],
      "metadata": {
        "id": "IOdg1I4ML6rG"
      },
      "execution_count": null,
      "outputs": []
    },
    {
      "cell_type": "code",
      "source": [
        "y_score_LR = clf_LR.predict_proba(test_embeddings_hadamard)\n",
        "fpr_LR, tpr_LR, th_LR = roc_curve(labels_test, y_score_LR[:,1])\n",
        "roc_auc_LR = auc(fpr_LR, tpr_LR)\n",
        "\n",
        "precision_LR, recall_LR, thr_LR = precision_recall_curve(labels_test, y_score_LR[:,1])\n",
        "\n",
        "y_score_DT = clf_DT.predict_proba(test_embeddings_hadamard)\n",
        "fpr_DT, tpr_DT, th_DT = roc_curve(labels_test, y_score_DT[:,1])\n",
        "roc_auc_DT = auc(fpr_DT, tpr_DT)\n",
        "roc_auc_DT\n",
        "\n",
        "precision_DT, recall_DT, thr_DT = precision_recall_curve(labels_test, y_score_DT[:,1])\n",
        "\n",
        "y_score_KNN = clf_KNN.predict_proba(test_embeddings_hadamard)\n",
        "fpr_KNN, tpr_KNN, th_KNN = roc_curve(labels_test, y_score_KNN[:,1])\n",
        "roc_auc_KNN = auc(fpr_KNN, tpr_KNN)\n",
        "roc_auc_KNN\n",
        "\n",
        "precision_KNN, recall_KNN, thr_KNN = precision_recall_curve(labels_test, y_score_KNN[:,1])\n",
        "\n",
        "AUC_RESULTS = {'Logistic Regression': roc_auc_LR, 'Decision Tree' : roc_auc_DT, 'K-Nearest Neighbors' : roc_auc_KNN}\n",
        "AUC_RESULTS"
      ],
      "metadata": {
        "colab": {
          "base_uri": "https://localhost:8080/"
        },
        "id": "S8ni5zG4N6Xp",
        "outputId": "6cc9c417-ed33-468f-ee34-cbf43f807c57"
      },
      "execution_count": null,
      "outputs": [
        {
          "output_type": "execute_result",
          "data": {
            "text/plain": [
              "{'Logistic Regression': 0.9525529080551043,\n",
              " 'Decision Tree': 0.9042669327418665,\n",
              " 'K-Nearest Neighbors': 0.9714935319450332}"
            ]
          },
          "metadata": {},
          "execution_count": 99
        }
      ]
    },
    {
      "cell_type": "code",
      "source": [
        "AUC_RESULTS_PR = {'Logistic Regression': auc(recall_LR,precision_LR), 'Decision Tree' : auc(recall_DT,precision_DT), 'K-Nearest Neighbors' :auc(recall_KNN,precision_KNN)}\n",
        "AUC_RESULTS_PR"
      ],
      "metadata": {
        "colab": {
          "base_uri": "https://localhost:8080/"
        },
        "id": "WO1Ae2yyLEUS",
        "outputId": "f3c4223f-1b3a-4d14-9f79-637e440cc369"
      },
      "execution_count": null,
      "outputs": [
        {
          "output_type": "execute_result",
          "data": {
            "text/plain": [
              "{'Logistic Regression': 0.9746405033159973,\n",
              " 'Decision Tree': 0.9260813862452326,\n",
              " 'K-Nearest Neighbors': 0.9835015399493566}"
            ]
          },
          "metadata": {},
          "execution_count": 94
        }
      ]
    },
    {
      "cell_type": "code",
      "source": [
        "plt.figure(figsize=(8,5))\n",
        "\n",
        "plt.plot(fpr_LR, tpr_LR, label = \"Logistic Regression \" + \"(area = \" + str(AUC_RESULTS[\"Logistic Regression\"])[:5] + \")\")\n",
        "plt.plot(fpr_DT, tpr_DT, label = \"Decision Tree \" + \"(area = \" + str(AUC_RESULTS[\"Decision Tree\"])[:5] + \")\")\n",
        "plt.plot(fpr_KNN, tpr_KNN, label = \"K-Nearest Neighbors \" + \"(area = \" + str(AUC_RESULTS[\"K-Nearest Neighbors\"])[:5] + \")\")\n",
        "plt.plot([0,1], [0,1], 'k--')\n",
        "\n",
        "plt.xlabel('FPR', fontsize=10)\n",
        "plt.ylabel('TPR', fontsize = 10)\n",
        "plt.tick_params(axis='both', which='major', labelsize=10)\n",
        "plt.legend(loc = \"lower right\")\n",
        "plt.show()"
      ],
      "metadata": {
        "colab": {
          "base_uri": "https://localhost:8080/",
          "height": 465
        },
        "id": "xggZOLqaL606",
        "outputId": "8d78bcdd-0299-4cb0-82ac-45114a371e97"
      },
      "execution_count": null,
      "outputs": [
        {
          "output_type": "display_data",
          "data": {
            "text/plain": [
              "<Figure size 800x500 with 1 Axes>"
            ],
            "image/png": "[encoded data removed]"
          },
          "metadata": {}
        }
      ]
    },
    {
      "cell_type": "code",
      "source": [
        "plt.figure(figsize=(8,5))\n",
        "\n",
        "plt.plot(recall_LR, precision_LR, label = \"Logistic Regression \"+ \"(area = \" + str(AUC_RESULTS_PR[\"Logistic Regression\"])[:5] + \")\")\n",
        "plt.plot(recall_DT, precision_DT, label = \"Decision Tree \"+ \"(area = \" + str(AUC_RESULTS_PR[\"Decision Tree\"])[:5] + \")\")\n",
        "plt.plot(recall_KNN, precision_KNN, label = \"K-Nearest Neighbors \" + \"(area = \" + str(AUC_RESULTS_PR[\"K-Nearest Neighbors\"])[:5] + \")\")\n",
        "\n",
        "\n",
        "plt.xlabel('Recall', fontsize=10)\n",
        "plt.ylabel('Precision', fontsize = 10)\n",
        "plt.tick_params(axis='both', which='major', labelsize=10)\n",
        "plt.legend(loc = \"lower right\")\n",
        "plt.show()"
      ],
      "metadata": {
        "colab": {
          "base_uri": "https://localhost:8080/",
          "height": 465
        },
        "id": "Joa0hcTGixki",
        "outputId": "4430dd76-a80e-493e-e00a-21c9836b4e88"
      },
      "execution_count": null,
      "outputs": [
        {
          "output_type": "display_data",
          "data": {
            "text/plain": [
              "<Figure size 800x500 with 1 Axes>"
            ],
            "image/png": "[encoded data removed]"
          },
          "metadata": {}
        }
      ]
    }
  ],
  "metadata": {
    "colab": {
      "collapsed_sections": [
        "_B79nDLo8avP",
        "K_MWcfiVAZi-"
      ],
      "provenance": []
    },
    "kernelspec": {
      "display_name": "Python 3",
      "name": "python3"
    },
    "language_info": {
      "name": "python"
    },
    "widgets": {
      "application/vnd.jupyter.widget-state+json": {
        "d2d17cddaaba4fe4a983c6d2ba7e8182": {
          "model_module": "@jupyter-widgets/controls",
          "model_name": "HBoxModel",
          "model_module_version": "1.5.0",
          "state": {
            "_dom_classes": [],
            "_model_module": "@jupyter-widgets/controls",
            "_model_module_version": "1.5.0",
            "_model_name": "HBoxModel",
            "_view_count": null,
            "_view_module": "@jupyter-widgets/controls",
            "_view_module_version": "1.5.0",
            "_view_name": "HBoxView",
            "box_style": "",
            "children": [
              "IPY_MODEL_f3a0d362dd8a482e9b296ae43444831d",
              "IPY_MODEL_0fd48db2b90044c08d1efe71665566e7",
              "IPY_MODEL_5a1657d0ec1e459e98b65ae31e3d7f4c"
            ],
            "layout": "IPY_MODEL_05a854b347354a78aab0a7dea1552ab4"
          }
        },
        "f3a0d362dd8a482e9b296ae43444831d": {
          "model_module": "@jupyter-widgets/controls",
          "model_name": "HTMLModel",
          "model_module_version": "1.5.0",
          "state": {
            "_dom_classes": [],
            "_model_module": "@jupyter-widgets/controls",
            "_model_module_version": "1.5.0",
            "_model_name": "HTMLModel",
            "_view_count": null,
            "_view_module": "@jupyter-widgets/controls",
            "_view_module_version": "1.5.0",
            "_view_name": "HTMLView",
            "description": "",
            "description_tooltip": null,
            "layout": "IPY_MODEL_a5d9432c19ed43449c38df1526e80e9e",
            "placeholder": "​",
            "style": "IPY_MODEL_51acd2558deb41c3be0c6d54e84ebb2e",
            "value": "Computing transition probabilities: 100%"
          }
        },
        "0fd48db2b90044c08d1efe71665566e7": {
          "model_module": "@jupyter-widgets/controls",
          "model_name": "FloatProgressModel",
          "model_module_version": "1.5.0",
          "state": {
            "_dom_classes": [],
            "_model_module": "@jupyter-widgets/controls",
            "_model_module_version": "1.5.0",
            "_model_name": "FloatProgressModel",
            "_view_count": null,
            "_view_module": "@jupyter-widgets/controls",
            "_view_module_version": "1.5.0",
            "_view_name": "ProgressView",
            "bar_style": "success",
            "description": "",
            "description_tooltip": null,
            "layout": "IPY_MODEL_f76a86f9b1d2402aaa550af170c236d3",
            "max": 63717,
            "min": 0,
            "orientation": "horizontal",
            "style": "IPY_MODEL_afeab3a71c0c42029fedaf74c167eac5",
            "value": 63717
          }
        },
        "5a1657d0ec1e459e98b65ae31e3d7f4c": {
          "model_module": "@jupyter-widgets/controls",
          "model_name": "HTMLModel",
          "model_module_version": "1.5.0",
          "state": {
            "_dom_classes": [],
            "_model_module": "@jupyter-widgets/controls",
            "_model_module_version": "1.5.0",
            "_model_name": "HTMLModel",
            "_view_count": null,
            "_view_module": "@jupyter-widgets/controls",
            "_view_module_version": "1.5.0",
            "_view_name": "HTMLView",
            "description": "",
            "description_tooltip": null,
            "layout": "IPY_MODEL_0171d007a6034faf8d9144e1dc08b82b",
            "placeholder": "​",
            "style": "IPY_MODEL_0767762a4365400bacf45a395fcd6f12",
            "value": " 63717/63717 [01:44&lt;00:00, 2758.94it/s]"
          }
        },
        "05a854b347354a78aab0a7dea1552ab4": {
          "model_module": "@jupyter-widgets/base",
          "model_name": "LayoutModel",
          "model_module_version": "1.2.0",
          "state": {
            "_model_module": "@jupyter-widgets/base",
            "_model_module_version": "1.2.0",
            "_model_name": "LayoutModel",
            "_view_count": null,
            "_view_module": "@jupyter-widgets/base",
            "_view_module_version": "1.2.0",
            "_view_name": "LayoutView",
            "align_content": null,
            "align_items": null,
            "align_self": null,
            "border": null,
            "bottom": null,
            "display": null,
            "flex": null,
            "flex_flow": null,
            "grid_area": null,
            "grid_auto_columns": null,
            "grid_auto_flow": null,
            "grid_auto_rows": null,
            "grid_column": null,
            "grid_gap": null,
            "grid_row": null,
            "grid_template_areas": null,
            "grid_template_columns": null,
            "grid_template_rows": null,
            "height": null,
            "justify_content": null,
            "justify_items": null,
            "left": null,
            "margin": null,
            "max_height": null,
            "max_width": null,
            "min_height": null,
            "min_width": null,
            "object_fit": null,
            "object_position": null,
            "order": null,
            "overflow": null,
            "overflow_x": null,
            "overflow_y": null,
            "padding": null,
            "right": null,
            "top": null,
            "visibility": null,
            "width": null
          }
        },
        "a5d9432c19ed43449c38df1526e80e9e": {
          "model_module": "@jupyter-widgets/base",
          "model_name": "LayoutModel",
          "model_module_version": "1.2.0",
          "state": {
            "_model_module": "@jupyter-widgets/base",
            "_model_module_version": "1.2.0",
            "_model_name": "LayoutModel",
            "_view_count": null,
            "_view_module": "@jupyter-widgets/base",
            "_view_module_version": "1.2.0",
            "_view_name": "LayoutView",
            "align_content": null,
            "align_items": null,
            "align_self": null,
            "border": null,
            "bottom": null,
            "display": null,
            "flex": null,
            "flex_flow": null,
            "grid_area": null,
            "grid_auto_columns": null,
            "grid_auto_flow": null,
            "grid_auto_rows": null,
            "grid_column": null,
            "grid_gap": null,
            "grid_row": null,
            "grid_template_areas": null,
            "grid_template_columns": null,
            "grid_template_rows": null,
            "height": null,
            "justify_content": null,
            "justify_items": null,
            "left": null,
            "margin": null,
            "max_height": null,
            "max_width": null,
            "min_height": null,
            "min_width": null,
            "object_fit": null,
            "object_position": null,
            "order": null,
            "overflow": null,
            "overflow_x": null,
            "overflow_y": null,
            "padding": null,
            "right": null,
            "top": null,
            "visibility": null,
            "width": null
          }
        },
        "51acd2558deb41c3be0c6d54e84ebb2e": {
          "model_module": "@jupyter-widgets/controls",
          "model_name": "DescriptionStyleModel",
          "model_module_version": "1.5.0",
          "state": {
            "_model_module": "@jupyter-widgets/controls",
            "_model_module_version": "1.5.0",
            "_model_name": "DescriptionStyleModel",
            "_view_count": null,
            "_view_module": "@jupyter-widgets/base",
            "_view_module_version": "1.2.0",
            "_view_name": "StyleView",
            "description_width": ""
          }
        },
        "f76a86f9b1d2402aaa550af170c236d3": {
          "model_module": "@jupyter-widgets/base",
          "model_name": "LayoutModel",
          "model_module_version": "1.2.0",
          "state": {
            "_model_module": "@jupyter-widgets/base",
            "_model_module_version": "1.2.0",
            "_model_name": "LayoutModel",
            "_view_count": null,
            "_view_module": "@jupyter-widgets/base",
            "_view_module_version": "1.2.0",
            "_view_name": "LayoutView",
            "align_content": null,
            "align_items": null,
            "align_self": null,
            "border": null,
            "bottom": null,
            "display": null,
            "flex": null,
            "flex_flow": null,
            "grid_area": null,
            "grid_auto_columns": null,
            "grid_auto_flow": null,
            "grid_auto_rows": null,
            "grid_column": null,
            "grid_gap": null,
            "grid_row": null,
            "grid_template_areas": null,
            "grid_template_columns": null,
            "grid_template_rows": null,
            "height": null,
            "justify_content": null,
            "justify_items": null,
            "left": null,
            "margin": null,
            "max_height": null,
            "max_width": null,
            "min_height": null,
            "min_width": null,
            "object_fit": null,
            "object_position": null,
            "order": null,
            "overflow": null,
            "overflow_x": null,
            "overflow_y": null,
            "padding": null,
            "right": null,
            "top": null,
            "visibility": null,
            "width": null
          }
        },
        "afeab3a71c0c42029fedaf74c167eac5": {
          "model_module": "@jupyter-widgets/controls",
          "model_name": "ProgressStyleModel",
          "model_module_version": "1.5.0",
          "state": {
            "_model_module": "@jupyter-widgets/controls",
            "_model_module_version": "1.5.0",
            "_model_name": "ProgressStyleModel",
            "_view_count": null,
            "_view_module": "@jupyter-widgets/base",
            "_view_module_version": "1.2.0",
            "_view_name": "StyleView",
            "bar_color": null,
            "description_width": ""
          }
        },
        "0171d007a6034faf8d9144e1dc08b82b": {
          "model_module": "@jupyter-widgets/base",
          "model_name": "LayoutModel",
          "model_module_version": "1.2.0",
          "state": {
            "_model_module": "@jupyter-widgets/base",
            "_model_module_version": "1.2.0",
            "_model_name": "LayoutModel",
            "_view_count": null,
            "_view_module": "@jupyter-widgets/base",
            "_view_module_version": "1.2.0",
            "_view_name": "LayoutView",
            "align_content": null,
            "align_items": null,
            "align_self": null,
            "border": null,
            "bottom": null,
            "display": null,
            "flex": null,
            "flex_flow": null,
            "grid_area": null,
            "grid_auto_columns": null,
            "grid_auto_flow": null,
            "grid_auto_rows": null,
            "grid_column": null,
            "grid_gap": null,
            "grid_row": null,
            "grid_template_areas": null,
            "grid_template_columns": null,
            "grid_template_rows": null,
            "height": null,
            "justify_content": null,
            "justify_items": null,
            "left": null,
            "margin": null,
            "max_height": null,
            "max_width": null,
            "min_height": null,
            "min_width": null,
            "object_fit": null,
            "object_position": null,
            "order": null,
            "overflow": null,
            "overflow_x": null,
            "overflow_y": null,
            "padding": null,
            "right": null,
            "top": null,
            "visibility": null,
            "width": null
          }
        },
        "0767762a4365400bacf45a395fcd6f12": {
          "model_module": "@jupyter-widgets/controls",
          "model_name": "DescriptionStyleModel",
          "model_module_version": "1.5.0",
          "state": {
            "_model_module": "@jupyter-widgets/controls",
            "_model_module_version": "1.5.0",
            "_model_name": "DescriptionStyleModel",
            "_view_count": null,
            "_view_module": "@jupyter-widgets/base",
            "_view_module_version": "1.2.0",
            "_view_name": "StyleView",
            "description_width": ""
          }
        }
      }
    }
  },
  "nbformat": 4,
  "nbformat_minor": 0
}